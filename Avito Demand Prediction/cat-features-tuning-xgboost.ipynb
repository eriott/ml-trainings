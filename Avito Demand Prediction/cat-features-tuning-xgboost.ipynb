{
 "cells": [
  {
   "cell_type": "code",
   "execution_count": 4,
   "metadata": {},
   "outputs": [],
   "source": [
    "import pandas as pd\n",
    "import numpy as np\n",
    "from sklearn.model_selection import train_test_split\n",
    "from sklearn.metrics import accuracy_score\n",
    "from sklearn.preprocessing import LabelEncoder\n",
    "from sklearn.feature_extraction.text import CountVectorizer, TfidfVectorizer\n",
    "from matplotlib import pyplot as plt\n",
    "import seaborn as sns\n",
    "#import xgboost as xgb\n",
    "import numpy as np\n",
    "from nltk.stem.snowball import SnowballStemmer\n",
    "from nltk.corpus import stopwords\n",
    "\n",
    "%matplotlib inline"
   ]
  },
  {
   "cell_type": "code",
   "execution_count": 5,
   "metadata": {
    "collapsed": true
   },
   "outputs": [],
   "source": [
    "def log_progress(sequence, every=None, size=None, name='Items'):\n",
    "    from ipywidgets import IntProgress, HTML, VBox\n",
    "    from IPython.display import display\n",
    "\n",
    "    is_iterator = False\n",
    "    if size is None:\n",
    "        try:\n",
    "            size = len(sequence)\n",
    "        except TypeError:\n",
    "            is_iterator = True\n",
    "    if size is not None:\n",
    "        if every is None:\n",
    "            if size <= 200:\n",
    "                every = 1\n",
    "            else:\n",
    "                every = int(size / 200)     # every 0.5%\n",
    "    else:\n",
    "        assert every is not None, 'sequence is iterator, set every'\n",
    "\n",
    "    if is_iterator:\n",
    "        progress = IntProgress(min=0, max=1, value=1)\n",
    "        progress.bar_style = 'info'\n",
    "    else:\n",
    "        progress = IntProgress(min=0, max=size, value=0)\n",
    "    label = HTML()\n",
    "    box = VBox(children=[label, progress])\n",
    "    display(box)\n",
    "\n",
    "    index = 0\n",
    "    try:\n",
    "        for index, record in enumerate(sequence, 1):\n",
    "            if index == 1 or index % every == 0:\n",
    "                if is_iterator:\n",
    "                    label.value = '{name}: {index} / ?'.format(\n",
    "                        name=name,\n",
    "                        index=index\n",
    "                    )\n",
    "                else:\n",
    "                    progress.value = index\n",
    "                    label.value = u'{name}: {index} / {size}'.format(\n",
    "                        name=name,\n",
    "                        index=index,\n",
    "                        size=size\n",
    "                    )\n",
    "            yield record\n",
    "    except:\n",
    "        progress.bar_style = 'danger'\n",
    "        raise\n",
    "    else:\n",
    "        progress.bar_style = 'success'\n",
    "        progress.value = index\n",
    "        label.value = \"{name}: {index}\".format(\n",
    "            name=name,\n",
    "            index=str(index or '?')\n",
    "        )"
   ]
  },
  {
   "cell_type": "code",
   "execution_count": 6,
   "metadata": {
    "collapsed": true
   },
   "outputs": [],
   "source": [
    "train = pd.read_csv(\"../data/Avito Demand Prediction/train.csv\", parse_dates = [\"activation_date\"])\n",
    "test = pd.read_csv(\"../data/Avito Demand Prediction/test.csv\", parse_dates = [\"activation_date\"])"
   ]
  },
  {
   "cell_type": "code",
   "execution_count": 7,
   "metadata": {},
   "outputs": [
    {
     "data": {
      "text/plain": [
       "(1503424, 18)"
      ]
     },
     "execution_count": 7,
     "metadata": {},
     "output_type": "execute_result"
    }
   ],
   "source": [
    "train.shape"
   ]
  },
  {
   "cell_type": "code",
   "execution_count": 8,
   "metadata": {},
   "outputs": [
    {
     "name": "stdout",
     "output_type": "stream",
     "text": [
      "<class 'pandas.core.frame.DataFrame'>\n",
      "RangeIndex: 1503424 entries, 0 to 1503423\n",
      "Data columns (total 18 columns):\n",
      "item_id                 1503424 non-null object\n",
      "user_id                 1503424 non-null object\n",
      "region                  1503424 non-null object\n",
      "city                    1503424 non-null object\n",
      "parent_category_name    1503424 non-null object\n",
      "category_name           1503424 non-null object\n",
      "param_1                 1441848 non-null object\n",
      "param_2                 848882 non-null object\n",
      "param_3                 640859 non-null object\n",
      "title                   1503424 non-null object\n",
      "description             1387148 non-null object\n",
      "price                   1418062 non-null float64\n",
      "item_seq_number         1503424 non-null int64\n",
      "activation_date         1503424 non-null datetime64[ns]\n",
      "user_type               1503424 non-null object\n",
      "image                   1390836 non-null object\n",
      "image_top_1             1390836 non-null float64\n",
      "deal_probability        1503424 non-null float64\n",
      "dtypes: datetime64[ns](1), float64(3), int64(1), object(13)\n",
      "memory usage: 206.5+ MB\n"
     ]
    }
   ],
   "source": [
    "train.info()"
   ]
  },
  {
   "cell_type": "code",
   "execution_count": 9,
   "metadata": {},
   "outputs": [
    {
     "data": {
      "text/html": [
       "<div>\n",
       "<style>\n",
       "    .dataframe thead tr:only-child th {\n",
       "        text-align: right;\n",
       "    }\n",
       "\n",
       "    .dataframe thead th {\n",
       "        text-align: left;\n",
       "    }\n",
       "\n",
       "    .dataframe tbody tr th {\n",
       "        vertical-align: top;\n",
       "    }\n",
       "</style>\n",
       "<table border=\"1\" class=\"dataframe\">\n",
       "  <thead>\n",
       "    <tr style=\"text-align: right;\">\n",
       "      <th></th>\n",
       "      <th>item_id</th>\n",
       "      <th>user_id</th>\n",
       "      <th>region</th>\n",
       "      <th>city</th>\n",
       "      <th>parent_category_name</th>\n",
       "      <th>category_name</th>\n",
       "      <th>param_1</th>\n",
       "      <th>param_2</th>\n",
       "      <th>param_3</th>\n",
       "      <th>title</th>\n",
       "      <th>description</th>\n",
       "      <th>price</th>\n",
       "      <th>item_seq_number</th>\n",
       "      <th>activation_date</th>\n",
       "      <th>user_type</th>\n",
       "      <th>image</th>\n",
       "      <th>image_top_1</th>\n",
       "    </tr>\n",
       "  </thead>\n",
       "  <tbody>\n",
       "    <tr>\n",
       "      <th>0</th>\n",
       "      <td>6544e41a8817</td>\n",
       "      <td>dbe73ad6e4b5</td>\n",
       "      <td>Волгоградская область</td>\n",
       "      <td>Волгоград</td>\n",
       "      <td>Личные вещи</td>\n",
       "      <td>Детская одежда и обувь</td>\n",
       "      <td>Для мальчиков</td>\n",
       "      <td>Обувь</td>\n",
       "      <td>25</td>\n",
       "      <td>Отдам бесплатно</td>\n",
       "      <td>На ангарском</td>\n",
       "      <td>NaN</td>\n",
       "      <td>66</td>\n",
       "      <td>2017-04-18</td>\n",
       "      <td>Private</td>\n",
       "      <td>a8b57acb5ab304f9c331ac7a074219aed4d349d8aef386...</td>\n",
       "      <td>2020.0</td>\n",
       "    </tr>\n",
       "    <tr>\n",
       "      <th>1</th>\n",
       "      <td>65b9484d670f</td>\n",
       "      <td>2e11806abe57</td>\n",
       "      <td>Свердловская область</td>\n",
       "      <td>Нижняя Тура</td>\n",
       "      <td>Хобби и отдых</td>\n",
       "      <td>Велосипеды</td>\n",
       "      <td>Дорожные</td>\n",
       "      <td>NaN</td>\n",
       "      <td>NaN</td>\n",
       "      <td>Продам велосипед</td>\n",
       "      <td>Продам велосипед KAMA  F200,в нормальном состо...</td>\n",
       "      <td>3000.0</td>\n",
       "      <td>4</td>\n",
       "      <td>2017-04-16</td>\n",
       "      <td>Private</td>\n",
       "      <td>NaN</td>\n",
       "      <td>NaN</td>\n",
       "    </tr>\n",
       "    <tr>\n",
       "      <th>2</th>\n",
       "      <td>8bab230b2ecd</td>\n",
       "      <td>0b850bbebb10</td>\n",
       "      <td>Новосибирская область</td>\n",
       "      <td>Бердск</td>\n",
       "      <td>Бытовая электроника</td>\n",
       "      <td>Аудио и видео</td>\n",
       "      <td>Телевизоры и проекторы</td>\n",
       "      <td>NaN</td>\n",
       "      <td>NaN</td>\n",
       "      <td>BBK</td>\n",
       "      <td>Продам новый телевизор BBK  32 диагональ смарт...</td>\n",
       "      <td>15000.0</td>\n",
       "      <td>15</td>\n",
       "      <td>2017-04-17</td>\n",
       "      <td>Private</td>\n",
       "      <td>8c361112cb049745ef2d1b0ae73594fc5c107286b0c942...</td>\n",
       "      <td>2960.0</td>\n",
       "    </tr>\n",
       "    <tr>\n",
       "      <th>3</th>\n",
       "      <td>8e348601fefc</td>\n",
       "      <td>5f1d5c3ce0da</td>\n",
       "      <td>Саратовская область</td>\n",
       "      <td>Саратов</td>\n",
       "      <td>Для дома и дачи</td>\n",
       "      <td>Бытовая техника</td>\n",
       "      <td>Для кухни</td>\n",
       "      <td>Вытяжки</td>\n",
       "      <td>NaN</td>\n",
       "      <td>Вытяжка Jetair 60</td>\n",
       "      <td>Продам новую вытяжку в упаковке,с документами....</td>\n",
       "      <td>4500.0</td>\n",
       "      <td>70</td>\n",
       "      <td>2017-04-17</td>\n",
       "      <td>Private</td>\n",
       "      <td>NaN</td>\n",
       "      <td>NaN</td>\n",
       "    </tr>\n",
       "    <tr>\n",
       "      <th>4</th>\n",
       "      <td>8bd2fe400b89</td>\n",
       "      <td>23e2d97bfc7f</td>\n",
       "      <td>Оренбургская область</td>\n",
       "      <td>Бузулук</td>\n",
       "      <td>Личные вещи</td>\n",
       "      <td>Товары для детей и игрушки</td>\n",
       "      <td>Детские коляски</td>\n",
       "      <td>NaN</td>\n",
       "      <td>NaN</td>\n",
       "      <td>Коляска зима-лето</td>\n",
       "      <td>Продам отличную коляску. б/у 1 год. все вопрос...</td>\n",
       "      <td>4900.0</td>\n",
       "      <td>15</td>\n",
       "      <td>2017-04-15</td>\n",
       "      <td>Private</td>\n",
       "      <td>bc3cf6deef10840fc302e38eb48fa7748aa1e28d534f8f...</td>\n",
       "      <td>1002.0</td>\n",
       "    </tr>\n",
       "  </tbody>\n",
       "</table>\n",
       "</div>"
      ],
      "text/plain": [
       "        item_id       user_id                 region         city  \\\n",
       "0  6544e41a8817  dbe73ad6e4b5  Волгоградская область    Волгоград   \n",
       "1  65b9484d670f  2e11806abe57   Свердловская область  Нижняя Тура   \n",
       "2  8bab230b2ecd  0b850bbebb10  Новосибирская область       Бердск   \n",
       "3  8e348601fefc  5f1d5c3ce0da    Саратовская область      Саратов   \n",
       "4  8bd2fe400b89  23e2d97bfc7f   Оренбургская область      Бузулук   \n",
       "\n",
       "  parent_category_name               category_name                 param_1  \\\n",
       "0          Личные вещи      Детская одежда и обувь           Для мальчиков   \n",
       "1        Хобби и отдых                  Велосипеды                Дорожные   \n",
       "2  Бытовая электроника               Аудио и видео  Телевизоры и проекторы   \n",
       "3      Для дома и дачи             Бытовая техника               Для кухни   \n",
       "4          Личные вещи  Товары для детей и игрушки         Детские коляски   \n",
       "\n",
       "   param_2 param_3              title  \\\n",
       "0    Обувь      25    Отдам бесплатно   \n",
       "1      NaN     NaN   Продам велосипед   \n",
       "2      NaN     NaN                BBK   \n",
       "3  Вытяжки     NaN  Вытяжка Jetair 60   \n",
       "4      NaN     NaN  Коляска зима-лето   \n",
       "\n",
       "                                         description    price  \\\n",
       "0                                       На ангарском      NaN   \n",
       "1  Продам велосипед KAMA  F200,в нормальном состо...   3000.0   \n",
       "2  Продам новый телевизор BBK  32 диагональ смарт...  15000.0   \n",
       "3  Продам новую вытяжку в упаковке,с документами....   4500.0   \n",
       "4  Продам отличную коляску. б/у 1 год. все вопрос...   4900.0   \n",
       "\n",
       "   item_seq_number activation_date user_type  \\\n",
       "0               66      2017-04-18   Private   \n",
       "1                4      2017-04-16   Private   \n",
       "2               15      2017-04-17   Private   \n",
       "3               70      2017-04-17   Private   \n",
       "4               15      2017-04-15   Private   \n",
       "\n",
       "                                               image  image_top_1  \n",
       "0  a8b57acb5ab304f9c331ac7a074219aed4d349d8aef386...       2020.0  \n",
       "1                                                NaN          NaN  \n",
       "2  8c361112cb049745ef2d1b0ae73594fc5c107286b0c942...       2960.0  \n",
       "3                                                NaN          NaN  \n",
       "4  bc3cf6deef10840fc302e38eb48fa7748aa1e28d534f8f...       1002.0  "
      ]
     },
     "execution_count": 9,
     "metadata": {},
     "output_type": "execute_result"
    }
   ],
   "source": [
    "test.head()"
   ]
  },
  {
   "cell_type": "code",
   "execution_count": 10,
   "metadata": {},
   "outputs": [
    {
     "data": {
      "text/html": [
       "<div>\n",
       "<style>\n",
       "    .dataframe thead tr:only-child th {\n",
       "        text-align: right;\n",
       "    }\n",
       "\n",
       "    .dataframe thead th {\n",
       "        text-align: left;\n",
       "    }\n",
       "\n",
       "    .dataframe tbody tr th {\n",
       "        vertical-align: top;\n",
       "    }\n",
       "</style>\n",
       "<table border=\"1\" class=\"dataframe\">\n",
       "  <thead>\n",
       "    <tr style=\"text-align: right;\">\n",
       "      <th></th>\n",
       "      <th>item_id</th>\n",
       "      <th>user_id</th>\n",
       "      <th>region</th>\n",
       "      <th>city</th>\n",
       "      <th>parent_category_name</th>\n",
       "      <th>category_name</th>\n",
       "      <th>param_1</th>\n",
       "      <th>param_2</th>\n",
       "      <th>param_3</th>\n",
       "      <th>title</th>\n",
       "      <th>description</th>\n",
       "      <th>price</th>\n",
       "      <th>item_seq_number</th>\n",
       "      <th>activation_date</th>\n",
       "      <th>user_type</th>\n",
       "      <th>image</th>\n",
       "      <th>image_top_1</th>\n",
       "      <th>deal_probability</th>\n",
       "    </tr>\n",
       "  </thead>\n",
       "  <tbody>\n",
       "    <tr>\n",
       "      <th>0</th>\n",
       "      <td>b912c3c6a6ad</td>\n",
       "      <td>e00f8ff2eaf9</td>\n",
       "      <td>Свердловская область</td>\n",
       "      <td>Екатеринбург</td>\n",
       "      <td>Личные вещи</td>\n",
       "      <td>Товары для детей и игрушки</td>\n",
       "      <td>Постельные принадлежности</td>\n",
       "      <td>NaN</td>\n",
       "      <td>NaN</td>\n",
       "      <td>Кокоби(кокон для сна)</td>\n",
       "      <td>Кокон для сна малыша,пользовались меньше месяц...</td>\n",
       "      <td>400.0</td>\n",
       "      <td>2</td>\n",
       "      <td>2017-03-28</td>\n",
       "      <td>Private</td>\n",
       "      <td>d10c7e016e03247a3bf2d13348fe959fe6f436c1caf64c...</td>\n",
       "      <td>1008.0</td>\n",
       "      <td>0.12789</td>\n",
       "    </tr>\n",
       "    <tr>\n",
       "      <th>1</th>\n",
       "      <td>2dac0150717d</td>\n",
       "      <td>39aeb48f0017</td>\n",
       "      <td>Самарская область</td>\n",
       "      <td>Самара</td>\n",
       "      <td>Для дома и дачи</td>\n",
       "      <td>Мебель и интерьер</td>\n",
       "      <td>Другое</td>\n",
       "      <td>NaN</td>\n",
       "      <td>NaN</td>\n",
       "      <td>Стойка для Одежды</td>\n",
       "      <td>Стойка для одежды, под вешалки. С бутика.</td>\n",
       "      <td>3000.0</td>\n",
       "      <td>19</td>\n",
       "      <td>2017-03-26</td>\n",
       "      <td>Private</td>\n",
       "      <td>79c9392cc51a9c81c6eb91eceb8e552171db39d7142700...</td>\n",
       "      <td>692.0</td>\n",
       "      <td>0.00000</td>\n",
       "    </tr>\n",
       "    <tr>\n",
       "      <th>2</th>\n",
       "      <td>ba83aefab5dc</td>\n",
       "      <td>91e2f88dd6e3</td>\n",
       "      <td>Ростовская область</td>\n",
       "      <td>Ростов-на-Дону</td>\n",
       "      <td>Бытовая электроника</td>\n",
       "      <td>Аудио и видео</td>\n",
       "      <td>Видео, DVD и Blu-ray плееры</td>\n",
       "      <td>NaN</td>\n",
       "      <td>NaN</td>\n",
       "      <td>Philips bluray</td>\n",
       "      <td>В хорошем состоянии, домашний кинотеатр с blu ...</td>\n",
       "      <td>4000.0</td>\n",
       "      <td>9</td>\n",
       "      <td>2017-03-20</td>\n",
       "      <td>Private</td>\n",
       "      <td>b7f250ee3f39e1fedd77c141f273703f4a9be59db4b48a...</td>\n",
       "      <td>3032.0</td>\n",
       "      <td>0.43177</td>\n",
       "    </tr>\n",
       "    <tr>\n",
       "      <th>3</th>\n",
       "      <td>02996f1dd2ea</td>\n",
       "      <td>bf5cccea572d</td>\n",
       "      <td>Татарстан</td>\n",
       "      <td>Набережные Челны</td>\n",
       "      <td>Личные вещи</td>\n",
       "      <td>Товары для детей и игрушки</td>\n",
       "      <td>Автомобильные кресла</td>\n",
       "      <td>NaN</td>\n",
       "      <td>NaN</td>\n",
       "      <td>Автокресло</td>\n",
       "      <td>Продам кресло от0-25кг</td>\n",
       "      <td>2200.0</td>\n",
       "      <td>286</td>\n",
       "      <td>2017-03-25</td>\n",
       "      <td>Company</td>\n",
       "      <td>e6ef97e0725637ea84e3d203e82dadb43ed3cc0a1c8413...</td>\n",
       "      <td>796.0</td>\n",
       "      <td>0.80323</td>\n",
       "    </tr>\n",
       "    <tr>\n",
       "      <th>4</th>\n",
       "      <td>7c90be56d2ab</td>\n",
       "      <td>ef50846afc0b</td>\n",
       "      <td>Волгоградская область</td>\n",
       "      <td>Волгоград</td>\n",
       "      <td>Транспорт</td>\n",
       "      <td>Автомобили</td>\n",
       "      <td>С пробегом</td>\n",
       "      <td>ВАЗ (LADA)</td>\n",
       "      <td>2110</td>\n",
       "      <td>ВАЗ 2110, 2003</td>\n",
       "      <td>Все вопросы по телефону.</td>\n",
       "      <td>40000.0</td>\n",
       "      <td>3</td>\n",
       "      <td>2017-03-16</td>\n",
       "      <td>Private</td>\n",
       "      <td>54a687a3a0fc1d68aed99bdaaf551c5c70b761b16fd0a2...</td>\n",
       "      <td>2264.0</td>\n",
       "      <td>0.20797</td>\n",
       "    </tr>\n",
       "  </tbody>\n",
       "</table>\n",
       "</div>"
      ],
      "text/plain": [
       "        item_id       user_id                 region              city  \\\n",
       "0  b912c3c6a6ad  e00f8ff2eaf9   Свердловская область      Екатеринбург   \n",
       "1  2dac0150717d  39aeb48f0017      Самарская область            Самара   \n",
       "2  ba83aefab5dc  91e2f88dd6e3     Ростовская область    Ростов-на-Дону   \n",
       "3  02996f1dd2ea  bf5cccea572d              Татарстан  Набережные Челны   \n",
       "4  7c90be56d2ab  ef50846afc0b  Волгоградская область         Волгоград   \n",
       "\n",
       "  parent_category_name               category_name  \\\n",
       "0          Личные вещи  Товары для детей и игрушки   \n",
       "1      Для дома и дачи           Мебель и интерьер   \n",
       "2  Бытовая электроника               Аудио и видео   \n",
       "3          Личные вещи  Товары для детей и игрушки   \n",
       "4            Транспорт                  Автомобили   \n",
       "\n",
       "                       param_1     param_2 param_3                  title  \\\n",
       "0    Постельные принадлежности         NaN     NaN  Кокоби(кокон для сна)   \n",
       "1                       Другое         NaN     NaN      Стойка для Одежды   \n",
       "2  Видео, DVD и Blu-ray плееры         NaN     NaN         Philips bluray   \n",
       "3         Автомобильные кресла         NaN     NaN             Автокресло   \n",
       "4                   С пробегом  ВАЗ (LADA)    2110         ВАЗ 2110, 2003   \n",
       "\n",
       "                                         description    price  \\\n",
       "0  Кокон для сна малыша,пользовались меньше месяц...    400.0   \n",
       "1          Стойка для одежды, под вешалки. С бутика.   3000.0   \n",
       "2  В хорошем состоянии, домашний кинотеатр с blu ...   4000.0   \n",
       "3                             Продам кресло от0-25кг   2200.0   \n",
       "4                           Все вопросы по телефону.  40000.0   \n",
       "\n",
       "   item_seq_number activation_date user_type  \\\n",
       "0                2      2017-03-28   Private   \n",
       "1               19      2017-03-26   Private   \n",
       "2                9      2017-03-20   Private   \n",
       "3              286      2017-03-25   Company   \n",
       "4                3      2017-03-16   Private   \n",
       "\n",
       "                                               image  image_top_1  \\\n",
       "0  d10c7e016e03247a3bf2d13348fe959fe6f436c1caf64c...       1008.0   \n",
       "1  79c9392cc51a9c81c6eb91eceb8e552171db39d7142700...        692.0   \n",
       "2  b7f250ee3f39e1fedd77c141f273703f4a9be59db4b48a...       3032.0   \n",
       "3  e6ef97e0725637ea84e3d203e82dadb43ed3cc0a1c8413...        796.0   \n",
       "4  54a687a3a0fc1d68aed99bdaaf551c5c70b761b16fd0a2...       2264.0   \n",
       "\n",
       "   deal_probability  \n",
       "0           0.12789  \n",
       "1           0.00000  \n",
       "2           0.43177  \n",
       "3           0.80323  \n",
       "4           0.20797  "
      ]
     },
     "execution_count": 10,
     "metadata": {},
     "output_type": "execute_result"
    }
   ],
   "source": [
    "train.head()"
   ]
  },
  {
   "cell_type": "code",
   "execution_count": 11,
   "metadata": {},
   "outputs": [
    {
     "data": {
      "text/plain": [
       "Одежда, обувь, аксессуары       282753\n",
       "Детская одежда и обувь          270359\n",
       "Товары для детей и игрушки       99747\n",
       "Квартиры                         83670\n",
       "Телефоны                         65944\n",
       "Мебель и интерьер                65035\n",
       "Предложение услуг                64385\n",
       "Автомобили                       62494\n",
       "Ремонт и строительство           56201\n",
       "Бытовая техника                  33705\n",
       "Товары для компьютера            29565\n",
       "Дома, дачи, коттеджи             29244\n",
       "Красота и здоровье               29198\n",
       "Аудио и видео                    27036\n",
       "Спорт и отдых                    24881\n",
       "Коллекционирование               24346\n",
       "Оборудование для бизнеса         16047\n",
       "Земельные участки                16038\n",
       "Часы и украшения                 15566\n",
       "Книги и журналы                  11819\n",
       "Собаки                           11612\n",
       "Игры, приставки и программы      11167\n",
       "Другие животные                  11040\n",
       "Велосипеды                       10638\n",
       "Ноутбуки                         10297\n",
       "Кошки                             9951\n",
       "Грузовики и спецтехника           9394\n",
       "Посуда и товары для кухни         9076\n",
       "Растения                          9025\n",
       "Планшеты и электронные книги      8624\n",
       "Товары для животных               8580\n",
       "Комнаты                           8512\n",
       "Фототехника                       8345\n",
       "Коммерческая недвижимость         8305\n",
       "Гаражи и машиноместа              7304\n",
       "Музыкальные инструменты           6695\n",
       "Оргтехника и расходники           6580\n",
       "Птицы                             6447\n",
       "Продукты питания                  5781\n",
       "Мотоциклы и мототехника           5771\n",
       "Настольные компьютеры             5450\n",
       "Аквариум                          4840\n",
       "Охота и рыбалка                   4524\n",
       "Билеты и путешествия              3108\n",
       "Водный транспорт                  2180\n",
       "Готовый бизнес                    2028\n",
       "Недвижимость за рубежом            117\n",
       "Name: category_name, dtype: int64"
      ]
     },
     "execution_count": 11,
     "metadata": {},
     "output_type": "execute_result"
    }
   ],
   "source": [
    "train['category_name'].value_counts()"
   ]
  },
  {
   "cell_type": "code",
   "execution_count": 12,
   "metadata": {},
   "outputs": [
    {
     "data": {
      "text/plain": [
       "Одежда, обувь, аксессуары       84896\n",
       "Детская одежда и обувь          81654\n",
       "Товары для детей и игрушки      35533\n",
       "Квартиры                        30345\n",
       "Предложение услуг               23619\n",
       "Автомобили                      22607\n",
       "Мебель и интерьер               22182\n",
       "Телефоны                        22131\n",
       "Ремонт и строительство          22062\n",
       "Бытовая техника                 11497\n",
       "Дома, дачи, коттеджи            11428\n",
       "Товары для компьютера            9704\n",
       "Красота и здоровье               9343\n",
       "Аудио и видео                    8978\n",
       "Спорт и отдых                    8777\n",
       "Коллекционирование               8002\n",
       "Земельные участки                6556\n",
       "Оборудование для бизнеса         5725\n",
       "Велосипеды                       5237\n",
       "Часы и украшения                 5151\n",
       "Кошки                            4548\n",
       "Собаки                           4239\n",
       "Другие животные                  4170\n",
       "Книги и журналы                  3986\n",
       "Растения                         3941\n",
       "Грузовики и спецтехника          3901\n",
       "Ноутбуки                         3719\n",
       "Игры, приставки и программы      3511\n",
       "Посуда и товары для кухни        3313\n",
       "Коммерческая недвижимость        3171\n",
       "Товары для животных              3074\n",
       "Планшеты и электронные книги     3028\n",
       "Гаражи и машиноместа             2959\n",
       "Фототехника                      2957\n",
       "Комнаты                          2897\n",
       "Мотоциклы и мототехника          2510\n",
       "Музыкальные инструменты          2417\n",
       "Оргтехника и расходники          2315\n",
       "Птицы                            2282\n",
       "Настольные компьютеры            1939\n",
       "Продукты питания                 1915\n",
       "Аквариум                         1663\n",
       "Охота и рыбалка                  1570\n",
       "Билеты и путешествия             1282\n",
       "Водный транспорт                  935\n",
       "Готовый бизнес                    738\n",
       "Недвижимость за рубежом            31\n",
       "Name: category_name, dtype: int64"
      ]
     },
     "execution_count": 12,
     "metadata": {},
     "output_type": "execute_result"
    }
   ],
   "source": [
    "test['category_name'].value_counts()"
   ]
  },
  {
   "cell_type": "code",
   "execution_count": null,
   "metadata": {
    "collapsed": true
   },
   "outputs": [],
   "source": []
  },
  {
   "cell_type": "code",
   "execution_count": 13,
   "metadata": {},
   "outputs": [
    {
     "data": {
      "text/html": [
       "<div>\n",
       "<style>\n",
       "    .dataframe thead tr:only-child th {\n",
       "        text-align: right;\n",
       "    }\n",
       "\n",
       "    .dataframe thead th {\n",
       "        text-align: left;\n",
       "    }\n",
       "\n",
       "    .dataframe tbody tr th {\n",
       "        vertical-align: top;\n",
       "    }\n",
       "</style>\n",
       "<table border=\"1\" class=\"dataframe\">\n",
       "  <thead>\n",
       "    <tr style=\"text-align: right;\">\n",
       "      <th></th>\n",
       "      <th>price</th>\n",
       "      <th>item_seq_number</th>\n",
       "      <th>image_top_1</th>\n",
       "      <th>deal_probability</th>\n",
       "    </tr>\n",
       "  </thead>\n",
       "  <tbody>\n",
       "    <tr>\n",
       "      <th>count</th>\n",
       "      <td>1.418062e+06</td>\n",
       "      <td>1.503424e+06</td>\n",
       "      <td>1.390836e+06</td>\n",
       "      <td>1.503424e+06</td>\n",
       "    </tr>\n",
       "    <tr>\n",
       "      <th>mean</th>\n",
       "      <td>3.167081e+05</td>\n",
       "      <td>7.436740e+02</td>\n",
       "      <td>1.241932e+03</td>\n",
       "      <td>1.391306e-01</td>\n",
       "    </tr>\n",
       "    <tr>\n",
       "      <th>std</th>\n",
       "      <td>6.689154e+07</td>\n",
       "      <td>5.572522e+03</td>\n",
       "      <td>9.704641e+02</td>\n",
       "      <td>2.600785e-01</td>\n",
       "    </tr>\n",
       "    <tr>\n",
       "      <th>min</th>\n",
       "      <td>0.000000e+00</td>\n",
       "      <td>1.000000e+00</td>\n",
       "      <td>0.000000e+00</td>\n",
       "      <td>0.000000e+00</td>\n",
       "    </tr>\n",
       "    <tr>\n",
       "      <th>25%</th>\n",
       "      <td>5.000000e+02</td>\n",
       "      <td>9.000000e+00</td>\n",
       "      <td>4.250000e+02</td>\n",
       "      <td>0.000000e+00</td>\n",
       "    </tr>\n",
       "    <tr>\n",
       "      <th>50%</th>\n",
       "      <td>1.300000e+03</td>\n",
       "      <td>2.900000e+01</td>\n",
       "      <td>1.057000e+03</td>\n",
       "      <td>0.000000e+00</td>\n",
       "    </tr>\n",
       "    <tr>\n",
       "      <th>75%</th>\n",
       "      <td>7.000000e+03</td>\n",
       "      <td>8.800000e+01</td>\n",
       "      <td>2.217000e+03</td>\n",
       "      <td>1.508700e-01</td>\n",
       "    </tr>\n",
       "    <tr>\n",
       "      <th>max</th>\n",
       "      <td>7.950101e+10</td>\n",
       "      <td>2.044290e+05</td>\n",
       "      <td>3.066000e+03</td>\n",
       "      <td>1.000000e+00</td>\n",
       "    </tr>\n",
       "  </tbody>\n",
       "</table>\n",
       "</div>"
      ],
      "text/plain": [
       "              price  item_seq_number   image_top_1  deal_probability\n",
       "count  1.418062e+06     1.503424e+06  1.390836e+06      1.503424e+06\n",
       "mean   3.167081e+05     7.436740e+02  1.241932e+03      1.391306e-01\n",
       "std    6.689154e+07     5.572522e+03  9.704641e+02      2.600785e-01\n",
       "min    0.000000e+00     1.000000e+00  0.000000e+00      0.000000e+00\n",
       "25%    5.000000e+02     9.000000e+00  4.250000e+02      0.000000e+00\n",
       "50%    1.300000e+03     2.900000e+01  1.057000e+03      0.000000e+00\n",
       "75%    7.000000e+03     8.800000e+01  2.217000e+03      1.508700e-01\n",
       "max    7.950101e+10     2.044290e+05  3.066000e+03      1.000000e+00"
      ]
     },
     "execution_count": 13,
     "metadata": {},
     "output_type": "execute_result"
    }
   ],
   "source": [
    "train.describe()"
   ]
  },
  {
   "cell_type": "markdown",
   "metadata": {},
   "source": [
    "**item_id** - Ad id.\n",
    "\n",
    "**user_id** - User id.\n",
    "\n",
    "**region** - Ad region.\n",
    "\n",
    "**city** - Ad city.\n",
    "\n",
    "**parent_category_name** - Top level ad category as classified by Avito's ad model.\n",
    "\n",
    "**category_name** - Fine grain ad category as classified by Avito's ad model.\n",
    "\n",
    "**param_1** - Optional parameter from Avito's ad model.\n",
    "\n",
    "**param_2** - Optional parameter from Avito's ad model.\n",
    "\n",
    "**param_3** - Optional parameter from Avito's ad model.\n",
    "\n",
    "**title** - Ad title.\n",
    "\n",
    "**description** - Ad description.\n",
    "\n",
    "**price** - Ad price.\n",
    "\n",
    "**item_seq_number** - Ad sequential number for user.\n",
    "\n",
    "**activation_date**- Date ad was placed.\n",
    "\n",
    "**user_type** - User type.\n",
    "\n",
    "**image** - Id code of image. Ties to a jpg file in train_jpg. Not every ad has an image.\n",
    "\n",
    "**image_top_1** - Avito's classification code for the image.\n",
    "\n",
    "**deal_probability** - The target variable. This is the likelihood that an ad actually sold something. It's not possible to verify every transaction with certainty, so this column's value can be any float from zero to one."
   ]
  },
  {
   "cell_type": "markdown",
   "metadata": {},
   "source": [
    "## Пропущенные значения"
   ]
  },
  {
   "cell_type": "code",
   "execution_count": 14,
   "metadata": {},
   "outputs": [
    {
     "data": {
      "text/plain": [
       "param_1         61576\n",
       "param_2        654542\n",
       "param_3        862565\n",
       "description    116276\n",
       "price           85362\n",
       "image          112588\n",
       "image_top_1    112588\n",
       "dtype: int64"
      ]
     },
     "execution_count": 14,
     "metadata": {},
     "output_type": "execute_result"
    }
   ],
   "source": [
    "null_value_stats = train.isnull().sum(axis=0)\n",
    "null_value_stats[null_value_stats != 0]"
   ]
  },
  {
   "cell_type": "code",
   "execution_count": 15,
   "metadata": {
    "collapsed": true
   },
   "outputs": [],
   "source": [
    "train[\"param_1\"].fillna(\"\", inplace=True)\n",
    "train[\"param_2\"].fillna(\"\", inplace=True)\n",
    "train[\"param_3\"].fillna(\"\", inplace=True)\n",
    "train[\"description\"].fillna(\"\", inplace=True)\n",
    "train[\"price\"].fillna(-999, inplace=True)\n",
    "train[\"image\"].fillna(\"\", inplace=True)\n",
    "train[\"image_top_1\"].fillna(-999, inplace=True)"
   ]
  },
  {
   "cell_type": "code",
   "execution_count": 16,
   "metadata": {},
   "outputs": [
    {
     "data": {
      "text/plain": [
       "param_1         22910\n",
       "param_2        233229\n",
       "param_3        306331\n",
       "price           30585\n",
       "image           42609\n",
       "image_top_1     42609\n",
       "dtype: int64"
      ]
     },
     "execution_count": 16,
     "metadata": {},
     "output_type": "execute_result"
    }
   ],
   "source": [
    "null_value_stats = test.isnull().sum(axis=0)\n",
    "null_value_stats[null_value_stats != 0]"
   ]
  },
  {
   "cell_type": "code",
   "execution_count": 17,
   "metadata": {
    "collapsed": true
   },
   "outputs": [],
   "source": [
    "test[\"param_1\"].fillna(\"\", inplace=True)\n",
    "test[\"param_2\"].fillna(\"\", inplace=True)\n",
    "test[\"param_3\"].fillna(\"\", inplace=True)\n",
    "test[\"price\"].fillna(-999, inplace=True)\n",
    "test[\"image\"].fillna(\"\", inplace=True)\n",
    "test[\"image_top_1\"].fillna(-999, inplace=True)"
   ]
  },
  {
   "cell_type": "markdown",
   "metadata": {},
   "source": [
    "## Feature Engineering"
   ]
  },
  {
   "cell_type": "code",
   "execution_count": 18,
   "metadata": {
    "collapsed": true
   },
   "outputs": [],
   "source": [
    "train['text'] = train[['title', 'description', 'param_1', 'param_2', 'param_3']].apply(lambda x: ' '.join(x), axis=1)\n",
    "test['text'] = test[['title', 'description', 'param_1', 'param_2', 'param_3']].apply(lambda x: ' '.join(x), axis=1)\n",
    "\n",
    "train[\"weekday\"] = train[\"activation_date\"].dt.weekday\n",
    "test[\"weekday\"] = test[\"activation_date\"].dt.weekday\n",
    "\n",
    "train[\"is_weekend\"] = train['activation_date'].dt.weekday.apply(lambda x: 1 if x == 5 or x == 6 else 0)\n",
    "test[\"is_weekend\"] = test['activation_date'].dt.weekday.apply(lambda x: 1 if x == 5 or x == 6 else 0)\n",
    "\n",
    "train[\"month\"] = train[\"activation_date\"].dt.month\n",
    "test[\"month\"] = test[\"activation_date\"].dt.month\n",
    "\n",
    "train[\"day\"] = train[\"activation_date\"].dt.day\n",
    "test[\"day\"] = test[\"activation_date\"].dt.day\n",
    "\n",
    "train[\"has_image\"] = train['image'].apply(lambda x: 0 if x == '' else 1)\n",
    "test[\"has_image\"] = test['image'].apply(lambda x: 0 if x == '' else 1)\n",
    "\n",
    "train[\"has_description\"] = train['description'].apply(lambda x: 0 if x == '' else 1)\n",
    "test[\"has_description\"] = test['description'].apply(lambda x: 0 if x == '' else 1)\n",
    "\n",
    "train[\"description_len\"] = train['description'].apply(lambda x: len(x))\n",
    "test[\"description_len\"] = test['description'].apply(lambda x: len(x))\n",
    "\n",
    "train[\"title_len\"] = train['title'].apply(lambda x: len(x))\n",
    "test[\"title_len\"] = test['title'].apply(lambda x: len(x))\n",
    "\n",
    "train[\"has_param_1\"] = train['param_1'].apply(lambda x: 0 if x == '' else 1)\n",
    "test[\"has_param_1\"] = test['param_1'].apply(lambda x: 0 if x == '' else 1)\n",
    "\n",
    "train[\"has_param_2\"] = train['param_2'].apply(lambda x: 0 if x == '' else 1)\n",
    "test[\"has_param_2\"] = test['param_2'].apply(lambda x: 0 if x == '' else 1)\n",
    "\n",
    "train[\"has_param_3\"] = train['param_3'].apply(lambda x: 0 if x == '' else 1)\n",
    "test[\"has_param_3\"] = test['param_3'].apply(lambda x: 0 if x == '' else 1)\n",
    "\n",
    "train[\"has_price\"] = train['price'].apply(lambda x: 0 if x == -999 else 1)\n",
    "test[\"has_price\"] = test['price'].apply(lambda x: 0 if x == -999 else 1)\n",
    "\n",
    "train[\"has_image_top_1\"] = train['image_top_1'].apply(lambda x: 0 if x == -999 else 1)\n",
    "test[\"has_image_top_1\"] = test['image_top_1'].apply(lambda x: 0 if x == -999 else 1)"
   ]
  },
  {
   "cell_type": "code",
   "execution_count": null,
   "metadata": {
    "collapsed": true
   },
   "outputs": [],
   "source": []
  },
  {
   "cell_type": "markdown",
   "metadata": {},
   "source": []
  },
  {
   "cell_type": "code",
   "execution_count": null,
   "metadata": {
    "collapsed": true
   },
   "outputs": [],
   "source": []
  },
  {
   "cell_type": "code",
   "execution_count": null,
   "metadata": {
    "collapsed": true
   },
   "outputs": [],
   "source": []
  },
  {
   "cell_type": "code",
   "execution_count": 19,
   "metadata": {},
   "outputs": [
    {
     "data": {
      "text/html": [
       "<div>\n",
       "<style>\n",
       "    .dataframe thead tr:only-child th {\n",
       "        text-align: right;\n",
       "    }\n",
       "\n",
       "    .dataframe thead th {\n",
       "        text-align: left;\n",
       "    }\n",
       "\n",
       "    .dataframe tbody tr th {\n",
       "        vertical-align: top;\n",
       "    }\n",
       "</style>\n",
       "<table border=\"1\" class=\"dataframe\">\n",
       "  <thead>\n",
       "    <tr style=\"text-align: right;\">\n",
       "      <th></th>\n",
       "      <th>item_id</th>\n",
       "      <th>user_id</th>\n",
       "      <th>region</th>\n",
       "      <th>city</th>\n",
       "      <th>parent_category_name</th>\n",
       "      <th>category_name</th>\n",
       "      <th>param_1</th>\n",
       "      <th>param_2</th>\n",
       "      <th>param_3</th>\n",
       "      <th>title</th>\n",
       "      <th>...</th>\n",
       "      <th>day</th>\n",
       "      <th>has_image</th>\n",
       "      <th>has_description</th>\n",
       "      <th>description_len</th>\n",
       "      <th>title_len</th>\n",
       "      <th>has_param_1</th>\n",
       "      <th>has_param_2</th>\n",
       "      <th>has_param_3</th>\n",
       "      <th>has_price</th>\n",
       "      <th>has_image_top_1</th>\n",
       "    </tr>\n",
       "  </thead>\n",
       "  <tbody>\n",
       "    <tr>\n",
       "      <th>0</th>\n",
       "      <td>b912c3c6a6ad</td>\n",
       "      <td>e00f8ff2eaf9</td>\n",
       "      <td>Свердловская область</td>\n",
       "      <td>Екатеринбург</td>\n",
       "      <td>Личные вещи</td>\n",
       "      <td>Товары для детей и игрушки</td>\n",
       "      <td>Постельные принадлежности</td>\n",
       "      <td></td>\n",
       "      <td></td>\n",
       "      <td>Кокоби(кокон для сна)</td>\n",
       "      <td>...</td>\n",
       "      <td>28</td>\n",
       "      <td>1</td>\n",
       "      <td>1</td>\n",
       "      <td>58</td>\n",
       "      <td>21</td>\n",
       "      <td>1</td>\n",
       "      <td>0</td>\n",
       "      <td>0</td>\n",
       "      <td>1</td>\n",
       "      <td>1</td>\n",
       "    </tr>\n",
       "    <tr>\n",
       "      <th>1</th>\n",
       "      <td>2dac0150717d</td>\n",
       "      <td>39aeb48f0017</td>\n",
       "      <td>Самарская область</td>\n",
       "      <td>Самара</td>\n",
       "      <td>Для дома и дачи</td>\n",
       "      <td>Мебель и интерьер</td>\n",
       "      <td>Другое</td>\n",
       "      <td></td>\n",
       "      <td></td>\n",
       "      <td>Стойка для Одежды</td>\n",
       "      <td>...</td>\n",
       "      <td>26</td>\n",
       "      <td>1</td>\n",
       "      <td>1</td>\n",
       "      <td>41</td>\n",
       "      <td>17</td>\n",
       "      <td>1</td>\n",
       "      <td>0</td>\n",
       "      <td>0</td>\n",
       "      <td>1</td>\n",
       "      <td>1</td>\n",
       "    </tr>\n",
       "    <tr>\n",
       "      <th>2</th>\n",
       "      <td>ba83aefab5dc</td>\n",
       "      <td>91e2f88dd6e3</td>\n",
       "      <td>Ростовская область</td>\n",
       "      <td>Ростов-на-Дону</td>\n",
       "      <td>Бытовая электроника</td>\n",
       "      <td>Аудио и видео</td>\n",
       "      <td>Видео, DVD и Blu-ray плееры</td>\n",
       "      <td></td>\n",
       "      <td></td>\n",
       "      <td>Philips bluray</td>\n",
       "      <td>...</td>\n",
       "      <td>20</td>\n",
       "      <td>1</td>\n",
       "      <td>1</td>\n",
       "      <td>99</td>\n",
       "      <td>14</td>\n",
       "      <td>1</td>\n",
       "      <td>0</td>\n",
       "      <td>0</td>\n",
       "      <td>1</td>\n",
       "      <td>1</td>\n",
       "    </tr>\n",
       "    <tr>\n",
       "      <th>3</th>\n",
       "      <td>02996f1dd2ea</td>\n",
       "      <td>bf5cccea572d</td>\n",
       "      <td>Татарстан</td>\n",
       "      <td>Набережные Челны</td>\n",
       "      <td>Личные вещи</td>\n",
       "      <td>Товары для детей и игрушки</td>\n",
       "      <td>Автомобильные кресла</td>\n",
       "      <td></td>\n",
       "      <td></td>\n",
       "      <td>Автокресло</td>\n",
       "      <td>...</td>\n",
       "      <td>25</td>\n",
       "      <td>1</td>\n",
       "      <td>1</td>\n",
       "      <td>22</td>\n",
       "      <td>10</td>\n",
       "      <td>1</td>\n",
       "      <td>0</td>\n",
       "      <td>0</td>\n",
       "      <td>1</td>\n",
       "      <td>1</td>\n",
       "    </tr>\n",
       "    <tr>\n",
       "      <th>4</th>\n",
       "      <td>7c90be56d2ab</td>\n",
       "      <td>ef50846afc0b</td>\n",
       "      <td>Волгоградская область</td>\n",
       "      <td>Волгоград</td>\n",
       "      <td>Транспорт</td>\n",
       "      <td>Автомобили</td>\n",
       "      <td>С пробегом</td>\n",
       "      <td>ВАЗ (LADA)</td>\n",
       "      <td>2110</td>\n",
       "      <td>ВАЗ 2110, 2003</td>\n",
       "      <td>...</td>\n",
       "      <td>16</td>\n",
       "      <td>1</td>\n",
       "      <td>1</td>\n",
       "      <td>24</td>\n",
       "      <td>14</td>\n",
       "      <td>1</td>\n",
       "      <td>1</td>\n",
       "      <td>1</td>\n",
       "      <td>1</td>\n",
       "      <td>1</td>\n",
       "    </tr>\n",
       "  </tbody>\n",
       "</table>\n",
       "<p>5 rows × 32 columns</p>\n",
       "</div>"
      ],
      "text/plain": [
       "        item_id       user_id                 region              city  \\\n",
       "0  b912c3c6a6ad  e00f8ff2eaf9   Свердловская область      Екатеринбург   \n",
       "1  2dac0150717d  39aeb48f0017      Самарская область            Самара   \n",
       "2  ba83aefab5dc  91e2f88dd6e3     Ростовская область    Ростов-на-Дону   \n",
       "3  02996f1dd2ea  bf5cccea572d              Татарстан  Набережные Челны   \n",
       "4  7c90be56d2ab  ef50846afc0b  Волгоградская область         Волгоград   \n",
       "\n",
       "  parent_category_name               category_name  \\\n",
       "0          Личные вещи  Товары для детей и игрушки   \n",
       "1      Для дома и дачи           Мебель и интерьер   \n",
       "2  Бытовая электроника               Аудио и видео   \n",
       "3          Личные вещи  Товары для детей и игрушки   \n",
       "4            Транспорт                  Автомобили   \n",
       "\n",
       "                       param_1     param_2 param_3                  title  \\\n",
       "0    Постельные принадлежности                      Кокоби(кокон для сна)   \n",
       "1                       Другое                          Стойка для Одежды   \n",
       "2  Видео, DVD и Blu-ray плееры                             Philips bluray   \n",
       "3         Автомобильные кресла                                 Автокресло   \n",
       "4                   С пробегом  ВАЗ (LADA)    2110         ВАЗ 2110, 2003   \n",
       "\n",
       "        ...        day  has_image  has_description description_len title_len  \\\n",
       "0       ...         28          1                1              58        21   \n",
       "1       ...         26          1                1              41        17   \n",
       "2       ...         20          1                1              99        14   \n",
       "3       ...         25          1                1              22        10   \n",
       "4       ...         16          1                1              24        14   \n",
       "\n",
       "  has_param_1  has_param_2  has_param_3 has_price  has_image_top_1  \n",
       "0           1            0            0         1                1  \n",
       "1           1            0            0         1                1  \n",
       "2           1            0            0         1                1  \n",
       "3           1            0            0         1                1  \n",
       "4           1            1            1         1                1  \n",
       "\n",
       "[5 rows x 32 columns]"
      ]
     },
     "execution_count": 19,
     "metadata": {},
     "output_type": "execute_result"
    }
   ],
   "source": [
    "train.head()"
   ]
  },
  {
   "cell_type": "code",
   "execution_count": null,
   "metadata": {
    "collapsed": true
   },
   "outputs": [],
   "source": []
  },
  {
   "cell_type": "code",
   "execution_count": 20,
   "metadata": {},
   "outputs": [
    {
     "data": {
      "image/png": "[encoded data removed]",
      "text/plain": [
       "<matplotlib.figure.Figure at 0x7f913cb99320>"
      ]
     },
     "metadata": {},
     "output_type": "display_data"
    }
   ],
   "source": [
    "train['price'] = train['price'].apply(lambda x: np.log1p(x) if x != -999 else x)\n",
    "train['price'].hist();"
   ]
  },
  {
   "cell_type": "code",
   "execution_count": 21,
   "metadata": {
    "collapsed": true
   },
   "outputs": [],
   "source": [
    "# sns.boxplot(train['price']); # Ящик с усами: середина это медиана, границы ящика это 0.25- и 0.75-квартили,усы - это полтора интеркваритильных размаха от медианы. То, что за усами - это выбросы "
   ]
  },
  {
   "cell_type": "code",
   "execution_count": 22,
   "metadata": {
    "collapsed": true
   },
   "outputs": [],
   "source": [
    "# sns.countplot(train['region']);"
   ]
  },
  {
   "cell_type": "code",
   "execution_count": 23,
   "metadata": {
    "collapsed": true
   },
   "outputs": [],
   "source": [
    "# sns.countplot(train['category_name']);"
   ]
  },
  {
   "cell_type": "code",
   "execution_count": 24,
   "metadata": {
    "collapsed": true
   },
   "outputs": [],
   "source": [
    "# sns.countplot(train['user_type']);"
   ]
  },
  {
   "cell_type": "code",
   "execution_count": 25,
   "metadata": {
    "collapsed": true
   },
   "outputs": [],
   "source": [
    "# sns.countplot(train['city']);"
   ]
  },
  {
   "cell_type": "code",
   "execution_count": 26,
   "metadata": {
    "collapsed": true
   },
   "outputs": [],
   "source": [
    "# train['image_top_1'].hist();"
   ]
  },
  {
   "cell_type": "code",
   "execution_count": 27,
   "metadata": {},
   "outputs": [
    {
     "data": {
      "text/plain": [
       "Series([], dtype: int64)"
      ]
     },
     "execution_count": 27,
     "metadata": {},
     "output_type": "execute_result"
    }
   ],
   "source": [
    "null_value_stats = train.isnull().sum(axis=0)\n",
    "null_value_stats[null_value_stats != 0]"
   ]
  },
  {
   "cell_type": "markdown",
   "metadata": {},
   "source": [
    "## Change categorial features to numeric"
   ]
  },
  {
   "cell_type": "code",
   "execution_count": 28,
   "metadata": {},
   "outputs": [
    {
     "data": {
      "text/plain": [
       "['item_id',\n",
       " 'user_id',\n",
       " 'region',\n",
       " 'city',\n",
       " 'parent_category_name',\n",
       " 'category_name',\n",
       " 'param_1',\n",
       " 'param_2',\n",
       " 'param_3',\n",
       " 'title',\n",
       " 'description',\n",
       " 'item_seq_number',\n",
       " 'activation_date',\n",
       " 'user_type',\n",
       " 'image',\n",
       " 'text',\n",
       " 'weekday',\n",
       " 'is_weekend',\n",
       " 'month',\n",
       " 'day',\n",
       " 'has_image',\n",
       " 'has_description',\n",
       " 'description_len',\n",
       " 'title_len',\n",
       " 'has_param_1',\n",
       " 'has_param_2',\n",
       " 'has_param_3',\n",
       " 'has_price',\n",
       " 'has_image_top_1']"
      ]
     },
     "execution_count": 28,
     "metadata": {},
     "output_type": "execute_result"
    }
   ],
   "source": [
    "list(map(lambda x: train.columns[x], np.where(train.dtypes != np.float)[0]))"
   ]
  },
  {
   "cell_type": "code",
   "execution_count": 29,
   "metadata": {},
   "outputs": [
    {
     "data": {
      "text/plain": [
       "['user_id',\n",
       " 'region',\n",
       " 'city',\n",
       " 'parent_category_name',\n",
       " 'category_name',\n",
       " 'param_1',\n",
       " 'param_2',\n",
       " 'param_3',\n",
       " 'item_seq_number',\n",
       " 'user_type']"
      ]
     },
     "execution_count": 29,
     "metadata": {},
     "output_type": "execute_result"
    }
   ],
   "source": [
    "categorical_features_indices = [\n",
    " 'user_id',\n",
    " 'region',\n",
    " 'city',\n",
    " 'parent_category_name',\n",
    " 'category_name',\n",
    " 'param_1',\n",
    " 'param_2',\n",
    " 'param_3',\n",
    " 'item_seq_number',\n",
    " 'user_type']\n",
    "\n",
    "categorical_features_indices"
   ]
  },
  {
   "cell_type": "code",
   "execution_count": 30,
   "metadata": {},
   "outputs": [
    {
     "data": {
      "text/html": [
       "<div>\n",
       "<style>\n",
       "    .dataframe thead tr:only-child th {\n",
       "        text-align: right;\n",
       "    }\n",
       "\n",
       "    .dataframe thead th {\n",
       "        text-align: left;\n",
       "    }\n",
       "\n",
       "    .dataframe tbody tr th {\n",
       "        vertical-align: top;\n",
       "    }\n",
       "</style>\n",
       "<table border=\"1\" class=\"dataframe\">\n",
       "  <thead>\n",
       "    <tr style=\"text-align: right;\">\n",
       "      <th></th>\n",
       "      <th>item_id</th>\n",
       "      <th>user_id</th>\n",
       "      <th>region</th>\n",
       "      <th>city</th>\n",
       "      <th>parent_category_name</th>\n",
       "      <th>category_name</th>\n",
       "      <th>param_1</th>\n",
       "      <th>param_2</th>\n",
       "      <th>param_3</th>\n",
       "      <th>title</th>\n",
       "      <th>...</th>\n",
       "      <th>day</th>\n",
       "      <th>has_image</th>\n",
       "      <th>has_description</th>\n",
       "      <th>description_len</th>\n",
       "      <th>title_len</th>\n",
       "      <th>has_param_1</th>\n",
       "      <th>has_param_2</th>\n",
       "      <th>has_param_3</th>\n",
       "      <th>has_price</th>\n",
       "      <th>has_image_top_1</th>\n",
       "    </tr>\n",
       "  </thead>\n",
       "  <tbody>\n",
       "    <tr>\n",
       "      <th>0</th>\n",
       "      <td>b912c3c6a6ad</td>\n",
       "      <td>e00f8ff2eaf9</td>\n",
       "      <td>Свердловская область</td>\n",
       "      <td>Екатеринбург</td>\n",
       "      <td>Личные вещи</td>\n",
       "      <td>Товары для детей и игрушки</td>\n",
       "      <td>Постельные принадлежности</td>\n",
       "      <td></td>\n",
       "      <td></td>\n",
       "      <td>Кокоби(кокон для сна)</td>\n",
       "      <td>...</td>\n",
       "      <td>28</td>\n",
       "      <td>1</td>\n",
       "      <td>1</td>\n",
       "      <td>58</td>\n",
       "      <td>21</td>\n",
       "      <td>1</td>\n",
       "      <td>0</td>\n",
       "      <td>0</td>\n",
       "      <td>1</td>\n",
       "      <td>1</td>\n",
       "    </tr>\n",
       "    <tr>\n",
       "      <th>1</th>\n",
       "      <td>2dac0150717d</td>\n",
       "      <td>39aeb48f0017</td>\n",
       "      <td>Самарская область</td>\n",
       "      <td>Самара</td>\n",
       "      <td>Для дома и дачи</td>\n",
       "      <td>Мебель и интерьер</td>\n",
       "      <td>Другое</td>\n",
       "      <td></td>\n",
       "      <td></td>\n",
       "      <td>Стойка для Одежды</td>\n",
       "      <td>...</td>\n",
       "      <td>26</td>\n",
       "      <td>1</td>\n",
       "      <td>1</td>\n",
       "      <td>41</td>\n",
       "      <td>17</td>\n",
       "      <td>1</td>\n",
       "      <td>0</td>\n",
       "      <td>0</td>\n",
       "      <td>1</td>\n",
       "      <td>1</td>\n",
       "    </tr>\n",
       "    <tr>\n",
       "      <th>2</th>\n",
       "      <td>ba83aefab5dc</td>\n",
       "      <td>91e2f88dd6e3</td>\n",
       "      <td>Ростовская область</td>\n",
       "      <td>Ростов-на-Дону</td>\n",
       "      <td>Бытовая электроника</td>\n",
       "      <td>Аудио и видео</td>\n",
       "      <td>Видео, DVD и Blu-ray плееры</td>\n",
       "      <td></td>\n",
       "      <td></td>\n",
       "      <td>Philips bluray</td>\n",
       "      <td>...</td>\n",
       "      <td>20</td>\n",
       "      <td>1</td>\n",
       "      <td>1</td>\n",
       "      <td>99</td>\n",
       "      <td>14</td>\n",
       "      <td>1</td>\n",
       "      <td>0</td>\n",
       "      <td>0</td>\n",
       "      <td>1</td>\n",
       "      <td>1</td>\n",
       "    </tr>\n",
       "    <tr>\n",
       "      <th>3</th>\n",
       "      <td>02996f1dd2ea</td>\n",
       "      <td>bf5cccea572d</td>\n",
       "      <td>Татарстан</td>\n",
       "      <td>Набережные Челны</td>\n",
       "      <td>Личные вещи</td>\n",
       "      <td>Товары для детей и игрушки</td>\n",
       "      <td>Автомобильные кресла</td>\n",
       "      <td></td>\n",
       "      <td></td>\n",
       "      <td>Автокресло</td>\n",
       "      <td>...</td>\n",
       "      <td>25</td>\n",
       "      <td>1</td>\n",
       "      <td>1</td>\n",
       "      <td>22</td>\n",
       "      <td>10</td>\n",
       "      <td>1</td>\n",
       "      <td>0</td>\n",
       "      <td>0</td>\n",
       "      <td>1</td>\n",
       "      <td>1</td>\n",
       "    </tr>\n",
       "    <tr>\n",
       "      <th>4</th>\n",
       "      <td>7c90be56d2ab</td>\n",
       "      <td>ef50846afc0b</td>\n",
       "      <td>Волгоградская область</td>\n",
       "      <td>Волгоград</td>\n",
       "      <td>Транспорт</td>\n",
       "      <td>Автомобили</td>\n",
       "      <td>С пробегом</td>\n",
       "      <td>ВАЗ (LADA)</td>\n",
       "      <td>2110</td>\n",
       "      <td>ВАЗ 2110, 2003</td>\n",
       "      <td>...</td>\n",
       "      <td>16</td>\n",
       "      <td>1</td>\n",
       "      <td>1</td>\n",
       "      <td>24</td>\n",
       "      <td>14</td>\n",
       "      <td>1</td>\n",
       "      <td>1</td>\n",
       "      <td>1</td>\n",
       "      <td>1</td>\n",
       "      <td>1</td>\n",
       "    </tr>\n",
       "  </tbody>\n",
       "</table>\n",
       "<p>5 rows × 32 columns</p>\n",
       "</div>"
      ],
      "text/plain": [
       "        item_id       user_id                 region              city  \\\n",
       "0  b912c3c6a6ad  e00f8ff2eaf9   Свердловская область      Екатеринбург   \n",
       "1  2dac0150717d  39aeb48f0017      Самарская область            Самара   \n",
       "2  ba83aefab5dc  91e2f88dd6e3     Ростовская область    Ростов-на-Дону   \n",
       "3  02996f1dd2ea  bf5cccea572d              Татарстан  Набережные Челны   \n",
       "4  7c90be56d2ab  ef50846afc0b  Волгоградская область         Волгоград   \n",
       "\n",
       "  parent_category_name               category_name  \\\n",
       "0          Личные вещи  Товары для детей и игрушки   \n",
       "1      Для дома и дачи           Мебель и интерьер   \n",
       "2  Бытовая электроника               Аудио и видео   \n",
       "3          Личные вещи  Товары для детей и игрушки   \n",
       "4            Транспорт                  Автомобили   \n",
       "\n",
       "                       param_1     param_2 param_3                  title  \\\n",
       "0    Постельные принадлежности                      Кокоби(кокон для сна)   \n",
       "1                       Другое                          Стойка для Одежды   \n",
       "2  Видео, DVD и Blu-ray плееры                             Philips bluray   \n",
       "3         Автомобильные кресла                                 Автокресло   \n",
       "4                   С пробегом  ВАЗ (LADA)    2110         ВАЗ 2110, 2003   \n",
       "\n",
       "        ...        day  has_image  has_description description_len title_len  \\\n",
       "0       ...         28          1                1              58        21   \n",
       "1       ...         26          1                1              41        17   \n",
       "2       ...         20          1                1              99        14   \n",
       "3       ...         25          1                1              22        10   \n",
       "4       ...         16          1                1              24        14   \n",
       "\n",
       "  has_param_1  has_param_2  has_param_3 has_price  has_image_top_1  \n",
       "0           1            0            0         1                1  \n",
       "1           1            0            0         1                1  \n",
       "2           1            0            0         1                1  \n",
       "3           1            0            0         1                1  \n",
       "4           1            1            1         1                1  \n",
       "\n",
       "[5 rows x 32 columns]"
      ]
     },
     "execution_count": 30,
     "metadata": {},
     "output_type": "execute_result"
    }
   ],
   "source": [
    "train.head()"
   ]
  },
  {
   "cell_type": "markdown",
   "metadata": {},
   "source": [
    "## Mean target encoding"
   ]
  },
  {
   "cell_type": "code",
   "execution_count": 39,
   "metadata": {},
   "outputs": [
    {
     "data": {
      "application/vnd.jupyter.widget-view+json": {
       "model_id": "f01fd9b500284f60a203bdd532ca8c21",
       "version_major": 2,
       "version_minor": 0
      },
      "text/plain": [
       "A Jupyter Widget"
      ]
     },
     "metadata": {},
     "output_type": "display_data"
    }
   ],
   "source": [
    "for feature in log_progress(categorical_features_indices, every=1):\n",
    "    mean_target_dict = train.groupby([feature])['deal_probability'].mean()\n",
    "    train[feature] = train[feature].map(mean_target_dict)"
   ]
  },
  {
   "cell_type": "code",
   "execution_count": 40,
   "metadata": {},
   "outputs": [
    {
     "data": {
      "text/html": [
       "<div>\n",
       "<style>\n",
       "    .dataframe thead tr:only-child th {\n",
       "        text-align: right;\n",
       "    }\n",
       "\n",
       "    .dataframe thead th {\n",
       "        text-align: left;\n",
       "    }\n",
       "\n",
       "    .dataframe tbody tr th {\n",
       "        vertical-align: top;\n",
       "    }\n",
       "</style>\n",
       "<table border=\"1\" class=\"dataframe\">\n",
       "  <thead>\n",
       "    <tr style=\"text-align: right;\">\n",
       "      <th></th>\n",
       "      <th>item_id</th>\n",
       "      <th>user_id</th>\n",
       "      <th>region</th>\n",
       "      <th>city</th>\n",
       "      <th>parent_category_name</th>\n",
       "      <th>category_name</th>\n",
       "      <th>param_1</th>\n",
       "      <th>param_2</th>\n",
       "      <th>param_3</th>\n",
       "      <th>title</th>\n",
       "      <th>...</th>\n",
       "      <th>day</th>\n",
       "      <th>has_image</th>\n",
       "      <th>has_description</th>\n",
       "      <th>description_len</th>\n",
       "      <th>title_len</th>\n",
       "      <th>has_param_1</th>\n",
       "      <th>has_param_2</th>\n",
       "      <th>has_param_3</th>\n",
       "      <th>has_price</th>\n",
       "      <th>has_image_top_1</th>\n",
       "    </tr>\n",
       "  </thead>\n",
       "  <tbody>\n",
       "    <tr>\n",
       "      <th>0</th>\n",
       "      <td>b912c3c6a6ad</td>\n",
       "      <td>0.12789</td>\n",
       "      <td>0.122004</td>\n",
       "      <td>0.123397</td>\n",
       "      <td>0.075876</td>\n",
       "      <td>0.198445</td>\n",
       "      <td>0.090057</td>\n",
       "      <td>0.169737</td>\n",
       "      <td>0.174625</td>\n",
       "      <td>Кокоби(кокон для сна)</td>\n",
       "      <td>...</td>\n",
       "      <td>28</td>\n",
       "      <td>1</td>\n",
       "      <td>1</td>\n",
       "      <td>58</td>\n",
       "      <td>21</td>\n",
       "      <td>1</td>\n",
       "      <td>0</td>\n",
       "      <td>0</td>\n",
       "      <td>1</td>\n",
       "      <td>1</td>\n",
       "    </tr>\n",
       "    <tr>\n",
       "      <th>1</th>\n",
       "      <td>2dac0150717d</td>\n",
       "      <td>0.00000</td>\n",
       "      <td>0.136721</td>\n",
       "      <td>0.139400</td>\n",
       "      <td>0.179633</td>\n",
       "      <td>0.191848</td>\n",
       "      <td>0.126030</td>\n",
       "      <td>0.169737</td>\n",
       "      <td>0.174625</td>\n",
       "      <td>Стойка для Одежды</td>\n",
       "      <td>...</td>\n",
       "      <td>26</td>\n",
       "      <td>1</td>\n",
       "      <td>1</td>\n",
       "      <td>41</td>\n",
       "      <td>17</td>\n",
       "      <td>1</td>\n",
       "      <td>0</td>\n",
       "      <td>0</td>\n",
       "      <td>1</td>\n",
       "      <td>1</td>\n",
       "    </tr>\n",
       "    <tr>\n",
       "      <th>2</th>\n",
       "      <td>ba83aefab5dc</td>\n",
       "      <td>0.33309</td>\n",
       "      <td>0.135944</td>\n",
       "      <td>0.124881</td>\n",
       "      <td>0.175421</td>\n",
       "      <td>0.171572</td>\n",
       "      <td>0.123831</td>\n",
       "      <td>0.169737</td>\n",
       "      <td>0.174625</td>\n",
       "      <td>Philips bluray</td>\n",
       "      <td>...</td>\n",
       "      <td>20</td>\n",
       "      <td>1</td>\n",
       "      <td>1</td>\n",
       "      <td>99</td>\n",
       "      <td>14</td>\n",
       "      <td>1</td>\n",
       "      <td>0</td>\n",
       "      <td>0</td>\n",
       "      <td>1</td>\n",
       "      <td>1</td>\n",
       "    </tr>\n",
       "    <tr>\n",
       "      <th>3</th>\n",
       "      <td>02996f1dd2ea</td>\n",
       "      <td>0.80323</td>\n",
       "      <td>0.142602</td>\n",
       "      <td>0.135031</td>\n",
       "      <td>0.075876</td>\n",
       "      <td>0.198445</td>\n",
       "      <td>0.333498</td>\n",
       "      <td>0.169737</td>\n",
       "      <td>0.174625</td>\n",
       "      <td>Автокресло</td>\n",
       "      <td>...</td>\n",
       "      <td>25</td>\n",
       "      <td>1</td>\n",
       "      <td>1</td>\n",
       "      <td>22</td>\n",
       "      <td>10</td>\n",
       "      <td>1</td>\n",
       "      <td>0</td>\n",
       "      <td>0</td>\n",
       "      <td>1</td>\n",
       "      <td>1</td>\n",
       "    </tr>\n",
       "    <tr>\n",
       "      <th>4</th>\n",
       "      <td>7c90be56d2ab</td>\n",
       "      <td>0.20797</td>\n",
       "      <td>0.145908</td>\n",
       "      <td>0.137275</td>\n",
       "      <td>0.263336</td>\n",
       "      <td>0.278427</td>\n",
       "      <td>0.283049</td>\n",
       "      <td>0.365193</td>\n",
       "      <td>0.373487</td>\n",
       "      <td>ВАЗ 2110, 2003</td>\n",
       "      <td>...</td>\n",
       "      <td>16</td>\n",
       "      <td>1</td>\n",
       "      <td>1</td>\n",
       "      <td>24</td>\n",
       "      <td>14</td>\n",
       "      <td>1</td>\n",
       "      <td>1</td>\n",
       "      <td>1</td>\n",
       "      <td>1</td>\n",
       "      <td>1</td>\n",
       "    </tr>\n",
       "  </tbody>\n",
       "</table>\n",
       "<p>5 rows × 32 columns</p>\n",
       "</div>"
      ],
      "text/plain": [
       "        item_id  user_id    region      city  parent_category_name  \\\n",
       "0  b912c3c6a6ad  0.12789  0.122004  0.123397              0.075876   \n",
       "1  2dac0150717d  0.00000  0.136721  0.139400              0.179633   \n",
       "2  ba83aefab5dc  0.33309  0.135944  0.124881              0.175421   \n",
       "3  02996f1dd2ea  0.80323  0.142602  0.135031              0.075876   \n",
       "4  7c90be56d2ab  0.20797  0.145908  0.137275              0.263336   \n",
       "\n",
       "   category_name   param_1   param_2   param_3                  title  \\\n",
       "0       0.198445  0.090057  0.169737  0.174625  Кокоби(кокон для сна)   \n",
       "1       0.191848  0.126030  0.169737  0.174625      Стойка для Одежды   \n",
       "2       0.171572  0.123831  0.169737  0.174625         Philips bluray   \n",
       "3       0.198445  0.333498  0.169737  0.174625             Автокресло   \n",
       "4       0.278427  0.283049  0.365193  0.373487         ВАЗ 2110, 2003   \n",
       "\n",
       "        ...        day  has_image  has_description description_len  title_len  \\\n",
       "0       ...         28          1                1              58         21   \n",
       "1       ...         26          1                1              41         17   \n",
       "2       ...         20          1                1              99         14   \n",
       "3       ...         25          1                1              22         10   \n",
       "4       ...         16          1                1              24         14   \n",
       "\n",
       "  has_param_1  has_param_2  has_param_3 has_price  has_image_top_1  \n",
       "0           1            0            0         1                1  \n",
       "1           1            0            0         1                1  \n",
       "2           1            0            0         1                1  \n",
       "3           1            0            0         1                1  \n",
       "4           1            1            1         1                1  \n",
       "\n",
       "[5 rows x 32 columns]"
      ]
     },
     "execution_count": 40,
     "metadata": {},
     "output_type": "execute_result"
    }
   ],
   "source": [
    "train.head()"
   ]
  },
  {
   "cell_type": "code",
   "execution_count": null,
   "metadata": {
    "collapsed": true
   },
   "outputs": [],
   "source": []
  },
  {
   "cell_type": "code",
   "execution_count": null,
   "metadata": {
    "collapsed": true
   },
   "outputs": [],
   "source": []
  },
  {
   "cell_type": "code",
   "execution_count": null,
   "metadata": {
    "collapsed": true
   },
   "outputs": [],
   "source": []
  },
  {
   "cell_type": "code",
   "execution_count": null,
   "metadata": {
    "collapsed": true
   },
   "outputs": [],
   "source": []
  },
  {
   "cell_type": "code",
   "execution_count": null,
   "metadata": {
    "collapsed": true
   },
   "outputs": [],
   "source": []
  },
  {
   "cell_type": "code",
   "execution_count": null,
   "metadata": {
    "collapsed": true
   },
   "outputs": [],
   "source": []
  },
  {
   "cell_type": "code",
   "execution_count": null,
   "metadata": {
    "collapsed": true
   },
   "outputs": [],
   "source": []
  },
  {
   "cell_type": "code",
   "execution_count": 27,
   "metadata": {},
   "outputs": [
    {
     "data": {
      "application/vnd.jupyter.widget-view+json": {
       "model_id": "86dd65a580c24b519bd76664d3f0035e",
       "version_major": 2,
       "version_minor": 0
      },
      "text/plain": [
       "VBox(children=(HTML(value=''), IntProgress(value=0, max=23)))"
      ]
     },
     "metadata": {},
     "output_type": "display_data"
    },
    {
     "data": {
      "text/plain": [
       "array([0, 1])"
      ]
     },
     "execution_count": 27,
     "metadata": {},
     "output_type": "execute_result"
    }
   ],
   "source": [
    "le = LabelEncoder()\n",
    "\n",
    "for feature in log_progress(categorical_features_indices, every=1):\n",
    "    le.fit(train[feature].append(test[feature]))\n",
    "    train[feature] = le.transform(train[feature])\n",
    "    test[feature] = le.transform(test[feature])\n",
    "    \n",
    "le.classes_"
   ]
  },
  {
   "cell_type": "code",
   "execution_count": null,
   "metadata": {
    "collapsed": true
   },
   "outputs": [],
   "source": []
  },
  {
   "cell_type": "code",
   "execution_count": 28,
   "metadata": {},
   "outputs": [
    {
     "data": {
      "text/html": [
       "<div>\n",
       "<style scoped>\n",
       "    .dataframe tbody tr th:only-of-type {\n",
       "        vertical-align: middle;\n",
       "    }\n",
       "\n",
       "    .dataframe tbody tr th {\n",
       "        vertical-align: top;\n",
       "    }\n",
       "\n",
       "    .dataframe thead th {\n",
       "        text-align: right;\n",
       "    }\n",
       "</style>\n",
       "<table border=\"1\" class=\"dataframe\">\n",
       "  <thead>\n",
       "    <tr style=\"text-align: right;\">\n",
       "      <th></th>\n",
       "      <th>item_id</th>\n",
       "      <th>user_id</th>\n",
       "      <th>region</th>\n",
       "      <th>city</th>\n",
       "      <th>parent_category_name</th>\n",
       "      <th>category_name</th>\n",
       "      <th>param_1</th>\n",
       "      <th>param_2</th>\n",
       "      <th>param_3</th>\n",
       "      <th>title</th>\n",
       "      <th>...</th>\n",
       "      <th>day</th>\n",
       "      <th>has_image</th>\n",
       "      <th>has_description</th>\n",
       "      <th>description_len</th>\n",
       "      <th>title_len</th>\n",
       "      <th>has_param_1</th>\n",
       "      <th>has_param_2</th>\n",
       "      <th>has_param_3</th>\n",
       "      <th>has_price</th>\n",
       "      <th>has_image_top_1</th>\n",
       "    </tr>\n",
       "  </thead>\n",
       "  <tbody>\n",
       "    <tr>\n",
       "      <th>0</th>\n",
       "      <td>b912c3c6a6ad</td>\n",
       "      <td>884270</td>\n",
       "      <td>19</td>\n",
       "      <td>462</td>\n",
       "      <td>4</td>\n",
       "      <td>42</td>\n",
       "      <td>249</td>\n",
       "      <td>0</td>\n",
       "      <td>0</td>\n",
       "      <td>Кокоби(кокон для сна)</td>\n",
       "      <td>...</td>\n",
       "      <td>20</td>\n",
       "      <td>1</td>\n",
       "      <td>1</td>\n",
       "      <td>58</td>\n",
       "      <td>20</td>\n",
       "      <td>1</td>\n",
       "      <td>0</td>\n",
       "      <td>0</td>\n",
       "      <td>1</td>\n",
       "      <td>1</td>\n",
       "    </tr>\n",
       "    <tr>\n",
       "      <th>1</th>\n",
       "      <td>2dac0150717d</td>\n",
       "      <td>227908</td>\n",
       "      <td>17</td>\n",
       "      <td>1314</td>\n",
       "      <td>2</td>\n",
       "      <td>22</td>\n",
       "      <td>122</td>\n",
       "      <td>0</td>\n",
       "      <td>0</td>\n",
       "      <td>Стойка для Одежды</td>\n",
       "      <td>...</td>\n",
       "      <td>18</td>\n",
       "      <td>1</td>\n",
       "      <td>1</td>\n",
       "      <td>41</td>\n",
       "      <td>16</td>\n",
       "      <td>1</td>\n",
       "      <td>0</td>\n",
       "      <td>0</td>\n",
       "      <td>1</td>\n",
       "      <td>1</td>\n",
       "    </tr>\n",
       "    <tr>\n",
       "      <th>2</th>\n",
       "      <td>ba83aefab5dc</td>\n",
       "      <td>576261</td>\n",
       "      <td>16</td>\n",
       "      <td>1290</td>\n",
       "      <td>0</td>\n",
       "      <td>2</td>\n",
       "      <td>84</td>\n",
       "      <td>0</td>\n",
       "      <td>0</td>\n",
       "      <td>Philips bluray</td>\n",
       "      <td>...</td>\n",
       "      <td>12</td>\n",
       "      <td>1</td>\n",
       "      <td>1</td>\n",
       "      <td>99</td>\n",
       "      <td>13</td>\n",
       "      <td>1</td>\n",
       "      <td>0</td>\n",
       "      <td>0</td>\n",
       "      <td>1</td>\n",
       "      <td>1</td>\n",
       "    </tr>\n",
       "    <tr>\n",
       "      <th>3</th>\n",
       "      <td>02996f1dd2ea</td>\n",
       "      <td>755087</td>\n",
       "      <td>21</td>\n",
       "      <td>950</td>\n",
       "      <td>4</td>\n",
       "      <td>42</td>\n",
       "      <td>38</td>\n",
       "      <td>0</td>\n",
       "      <td>0</td>\n",
       "      <td>Автокресло</td>\n",
       "      <td>...</td>\n",
       "      <td>17</td>\n",
       "      <td>1</td>\n",
       "      <td>1</td>\n",
       "      <td>22</td>\n",
       "      <td>9</td>\n",
       "      <td>1</td>\n",
       "      <td>0</td>\n",
       "      <td>0</td>\n",
       "      <td>1</td>\n",
       "      <td>1</td>\n",
       "    </tr>\n",
       "    <tr>\n",
       "      <th>4</th>\n",
       "      <td>7c90be56d2ab</td>\n",
       "      <td>944363</td>\n",
       "      <td>4</td>\n",
       "      <td>318</td>\n",
       "      <td>6</td>\n",
       "      <td>0</td>\n",
       "      <td>278</td>\n",
       "      <td>124</td>\n",
       "      <td>47</td>\n",
       "      <td>ВАЗ 2110, 2003</td>\n",
       "      <td>...</td>\n",
       "      <td>8</td>\n",
       "      <td>1</td>\n",
       "      <td>1</td>\n",
       "      <td>24</td>\n",
       "      <td>13</td>\n",
       "      <td>1</td>\n",
       "      <td>1</td>\n",
       "      <td>1</td>\n",
       "      <td>1</td>\n",
       "      <td>1</td>\n",
       "    </tr>\n",
       "  </tbody>\n",
       "</table>\n",
       "<p>5 rows × 32 columns</p>\n",
       "</div>"
      ],
      "text/plain": [
       "        item_id  user_id  region  city  parent_category_name  category_name  \\\n",
       "0  b912c3c6a6ad   884270      19   462                     4             42   \n",
       "1  2dac0150717d   227908      17  1314                     2             22   \n",
       "2  ba83aefab5dc   576261      16  1290                     0              2   \n",
       "3  02996f1dd2ea   755087      21   950                     4             42   \n",
       "4  7c90be56d2ab   944363       4   318                     6              0   \n",
       "\n",
       "   param_1  param_2  param_3                  title       ...        day  \\\n",
       "0      249        0        0  Кокоби(кокон для сна)       ...         20   \n",
       "1      122        0        0      Стойка для Одежды       ...         18   \n",
       "2       84        0        0         Philips bluray       ...         12   \n",
       "3       38        0        0             Автокресло       ...         17   \n",
       "4      278      124       47         ВАЗ 2110, 2003       ...          8   \n",
       "\n",
       "   has_image  has_description description_len  title_len has_param_1  \\\n",
       "0          1                1              58         20           1   \n",
       "1          1                1              41         16           1   \n",
       "2          1                1              99         13           1   \n",
       "3          1                1              22          9           1   \n",
       "4          1                1              24         13           1   \n",
       "\n",
       "   has_param_2  has_param_3 has_price  has_image_top_1  \n",
       "0            0            0         1                1  \n",
       "1            0            0         1                1  \n",
       "2            0            0         1                1  \n",
       "3            0            0         1                1  \n",
       "4            1            1         1                1  \n",
       "\n",
       "[5 rows x 32 columns]"
      ]
     },
     "execution_count": 28,
     "metadata": {},
     "output_type": "execute_result"
    }
   ],
   "source": [
    "train.head()"
   ]
  },
  {
   "cell_type": "code",
   "execution_count": 29,
   "metadata": {},
   "outputs": [
    {
     "data": {
      "text/html": [
       "<div>\n",
       "<style scoped>\n",
       "    .dataframe tbody tr th:only-of-type {\n",
       "        vertical-align: middle;\n",
       "    }\n",
       "\n",
       "    .dataframe tbody tr th {\n",
       "        vertical-align: top;\n",
       "    }\n",
       "\n",
       "    .dataframe thead th {\n",
       "        text-align: right;\n",
       "    }\n",
       "</style>\n",
       "<table border=\"1\" class=\"dataframe\">\n",
       "  <thead>\n",
       "    <tr style=\"text-align: right;\">\n",
       "      <th></th>\n",
       "      <th>item_id</th>\n",
       "      <th>user_id</th>\n",
       "      <th>region</th>\n",
       "      <th>city</th>\n",
       "      <th>parent_category_name</th>\n",
       "      <th>category_name</th>\n",
       "      <th>param_1</th>\n",
       "      <th>param_2</th>\n",
       "      <th>param_3</th>\n",
       "      <th>title</th>\n",
       "      <th>...</th>\n",
       "      <th>day</th>\n",
       "      <th>has_image</th>\n",
       "      <th>has_description</th>\n",
       "      <th>description_len</th>\n",
       "      <th>title_len</th>\n",
       "      <th>has_param_1</th>\n",
       "      <th>has_param_2</th>\n",
       "      <th>has_param_3</th>\n",
       "      <th>has_price</th>\n",
       "      <th>has_image_top_1</th>\n",
       "    </tr>\n",
       "  </thead>\n",
       "  <tbody>\n",
       "    <tr>\n",
       "      <th>0</th>\n",
       "      <td>6544e41a8817</td>\n",
       "      <td>867817</td>\n",
       "      <td>4</td>\n",
       "      <td>318</td>\n",
       "      <td>4</td>\n",
       "      <td>10</td>\n",
       "      <td>110</td>\n",
       "      <td>198</td>\n",
       "      <td>75</td>\n",
       "      <td>Отдам бесплатно</td>\n",
       "      <td>...</td>\n",
       "      <td>10</td>\n",
       "      <td>1</td>\n",
       "      <td>1</td>\n",
       "      <td>12</td>\n",
       "      <td>14</td>\n",
       "      <td>1</td>\n",
       "      <td>1</td>\n",
       "      <td>1</td>\n",
       "      <td>0</td>\n",
       "      <td>1</td>\n",
       "    </tr>\n",
       "    <tr>\n",
       "      <th>1</th>\n",
       "      <td>65b9484d670f</td>\n",
       "      <td>181851</td>\n",
       "      <td>19</td>\n",
       "      <td>993</td>\n",
       "      <td>8</td>\n",
       "      <td>5</td>\n",
       "      <td>119</td>\n",
       "      <td>0</td>\n",
       "      <td>0</td>\n",
       "      <td>Продам велосипед</td>\n",
       "      <td>...</td>\n",
       "      <td>8</td>\n",
       "      <td>0</td>\n",
       "      <td>1</td>\n",
       "      <td>88</td>\n",
       "      <td>15</td>\n",
       "      <td>1</td>\n",
       "      <td>0</td>\n",
       "      <td>0</td>\n",
       "      <td>1</td>\n",
       "      <td>0</td>\n",
       "    </tr>\n",
       "    <tr>\n",
       "      <th>2</th>\n",
       "      <td>8bab230b2ecd</td>\n",
       "      <td>45341</td>\n",
       "      <td>12</td>\n",
       "      <td>151</td>\n",
       "      <td>0</td>\n",
       "      <td>2</td>\n",
       "      <td>318</td>\n",
       "      <td>0</td>\n",
       "      <td>0</td>\n",
       "      <td>BBK</td>\n",
       "      <td>...</td>\n",
       "      <td>9</td>\n",
       "      <td>1</td>\n",
       "      <td>1</td>\n",
       "      <td>132</td>\n",
       "      <td>2</td>\n",
       "      <td>1</td>\n",
       "      <td>0</td>\n",
       "      <td>0</td>\n",
       "      <td>1</td>\n",
       "      <td>1</td>\n",
       "    </tr>\n",
       "    <tr>\n",
       "      <th>3</th>\n",
       "      <td>8e348601fefc</td>\n",
       "      <td>375979</td>\n",
       "      <td>18</td>\n",
       "      <td>1319</td>\n",
       "      <td>2</td>\n",
       "      <td>4</td>\n",
       "      <td>108</td>\n",
       "      <td>131</td>\n",
       "      <td>0</td>\n",
       "      <td>Вытяжка Jetair 60</td>\n",
       "      <td>...</td>\n",
       "      <td>9</td>\n",
       "      <td>0</td>\n",
       "      <td>1</td>\n",
       "      <td>93</td>\n",
       "      <td>16</td>\n",
       "      <td>1</td>\n",
       "      <td>1</td>\n",
       "      <td>0</td>\n",
       "      <td>1</td>\n",
       "      <td>0</td>\n",
       "    </tr>\n",
       "    <tr>\n",
       "      <th>4</th>\n",
       "      <td>8bd2fe400b89</td>\n",
       "      <td>141497</td>\n",
       "      <td>14</td>\n",
       "      <td>243</td>\n",
       "      <td>4</td>\n",
       "      <td>42</td>\n",
       "      <td>102</td>\n",
       "      <td>0</td>\n",
       "      <td>0</td>\n",
       "      <td>Коляска зима-лето</td>\n",
       "      <td>...</td>\n",
       "      <td>7</td>\n",
       "      <td>1</td>\n",
       "      <td>1</td>\n",
       "      <td>60</td>\n",
       "      <td>16</td>\n",
       "      <td>1</td>\n",
       "      <td>0</td>\n",
       "      <td>0</td>\n",
       "      <td>1</td>\n",
       "      <td>1</td>\n",
       "    </tr>\n",
       "  </tbody>\n",
       "</table>\n",
       "<p>5 rows × 31 columns</p>\n",
       "</div>"
      ],
      "text/plain": [
       "        item_id  user_id  region  city  parent_category_name  category_name  \\\n",
       "0  6544e41a8817   867817       4   318                     4             10   \n",
       "1  65b9484d670f   181851      19   993                     8              5   \n",
       "2  8bab230b2ecd    45341      12   151                     0              2   \n",
       "3  8e348601fefc   375979      18  1319                     2              4   \n",
       "4  8bd2fe400b89   141497      14   243                     4             42   \n",
       "\n",
       "   param_1  param_2  param_3              title       ...        day  \\\n",
       "0      110      198       75    Отдам бесплатно       ...         10   \n",
       "1      119        0        0   Продам велосипед       ...          8   \n",
       "2      318        0        0                BBK       ...          9   \n",
       "3      108      131        0  Вытяжка Jetair 60       ...          9   \n",
       "4      102        0        0  Коляска зима-лето       ...          7   \n",
       "\n",
       "   has_image  has_description description_len  title_len has_param_1  \\\n",
       "0          1                1              12         14           1   \n",
       "1          0                1              88         15           1   \n",
       "2          1                1             132          2           1   \n",
       "3          0                1              93         16           1   \n",
       "4          1                1              60         16           1   \n",
       "\n",
       "   has_param_2 has_param_3  has_price  has_image_top_1  \n",
       "0            1           1          0                1  \n",
       "1            0           0          1                0  \n",
       "2            0           0          1                1  \n",
       "3            1           0          1                0  \n",
       "4            0           0          1                1  \n",
       "\n",
       "[5 rows x 31 columns]"
      ]
     },
     "execution_count": 29,
     "metadata": {},
     "output_type": "execute_result"
    }
   ],
   "source": [
    "test.head()"
   ]
  },
  {
   "cell_type": "markdown",
   "metadata": {},
   "source": []
  },
  {
   "cell_type": "code",
   "execution_count": null,
   "metadata": {
    "collapsed": true
   },
   "outputs": [],
   "source": []
  },
  {
   "cell_type": "code",
   "execution_count": null,
   "metadata": {
    "collapsed": true
   },
   "outputs": [],
   "source": []
  },
  {
   "cell_type": "code",
   "execution_count": null,
   "metadata": {
    "collapsed": true
   },
   "outputs": [],
   "source": []
  },
  {
   "cell_type": "code",
   "execution_count": null,
   "metadata": {
    "collapsed": true
   },
   "outputs": [],
   "source": []
  },
  {
   "cell_type": "code",
   "execution_count": null,
   "metadata": {
    "collapsed": true
   },
   "outputs": [],
   "source": []
  },
  {
   "cell_type": "code",
   "execution_count": null,
   "metadata": {
    "collapsed": true
   },
   "outputs": [],
   "source": []
  },
  {
   "cell_type": "code",
   "execution_count": null,
   "metadata": {
    "collapsed": true
   },
   "outputs": [],
   "source": []
  },
  {
   "cell_type": "code",
   "execution_count": null,
   "metadata": {
    "collapsed": true
   },
   "outputs": [],
   "source": []
  },
  {
   "cell_type": "code",
   "execution_count": null,
   "metadata": {
    "collapsed": true
   },
   "outputs": [],
   "source": []
  },
  {
   "cell_type": "code",
   "execution_count": null,
   "metadata": {
    "collapsed": true
   },
   "outputs": [],
   "source": []
  },
  {
   "cell_type": "code",
   "execution_count": null,
   "metadata": {
    "collapsed": true
   },
   "outputs": [],
   "source": []
  },
  {
   "cell_type": "code",
   "execution_count": null,
   "metadata": {
    "collapsed": true
   },
   "outputs": [],
   "source": []
  },
  {
   "cell_type": "code",
   "execution_count": null,
   "metadata": {
    "collapsed": true
   },
   "outputs": [],
   "source": []
  },
  {
   "cell_type": "code",
   "execution_count": null,
   "metadata": {
    "collapsed": true
   },
   "outputs": [],
   "source": []
  },
  {
   "cell_type": "code",
   "execution_count": null,
   "metadata": {
    "collapsed": true
   },
   "outputs": [],
   "source": []
  },
  {
   "cell_type": "code",
   "execution_count": null,
   "metadata": {
    "collapsed": true
   },
   "outputs": [],
   "source": []
  },
  {
   "cell_type": "code",
   "execution_count": null,
   "metadata": {
    "collapsed": true
   },
   "outputs": [],
   "source": []
  },
  {
   "cell_type": "code",
   "execution_count": null,
   "metadata": {
    "collapsed": true
   },
   "outputs": [],
   "source": []
  },
  {
   "cell_type": "code",
   "execution_count": null,
   "metadata": {
    "collapsed": true
   },
   "outputs": [],
   "source": []
  },
  {
   "cell_type": "code",
   "execution_count": null,
   "metadata": {
    "collapsed": true
   },
   "outputs": [],
   "source": []
  },
  {
   "cell_type": "code",
   "execution_count": null,
   "metadata": {
    "collapsed": true
   },
   "outputs": [],
   "source": []
  },
  {
   "cell_type": "code",
   "execution_count": null,
   "metadata": {
    "collapsed": true
   },
   "outputs": [],
   "source": []
  },
  {
   "cell_type": "code",
   "execution_count": null,
   "metadata": {
    "collapsed": true
   },
   "outputs": [],
   "source": []
  },
  {
   "cell_type": "code",
   "execution_count": 30,
   "metadata": {},
   "outputs": [
    {
     "data": {
      "text/plain": [
       "Index(['item_id', 'user_id', 'region', 'city', 'parent_category_name',\n",
       "       'category_name', 'param_1', 'param_2', 'param_3', 'title',\n",
       "       'description', 'price', 'item_seq_number', 'activation_date',\n",
       "       'user_type', 'image', 'image_top_1', 'deal_probability', 'text',\n",
       "       'weekday', 'is_weekend', 'month', 'day', 'has_image', 'has_description',\n",
       "       'description_len', 'title_len', 'has_param_1', 'has_param_2',\n",
       "       'has_param_3', 'has_price', 'has_image_top_1'],\n",
       "      dtype='object')"
      ]
     },
     "execution_count": 30,
     "metadata": {},
     "output_type": "execute_result"
    }
   ],
   "source": [
    "train.columns\n"
   ]
  },
  {
   "cell_type": "code",
   "execution_count": 31,
   "metadata": {},
   "outputs": [
    {
     "name": "stderr",
     "output_type": "stream",
     "text": [
      "/home/paperspace/anaconda3/envs/fastai/lib/python3.6/site-packages/sklearn/model_selection/_split.py:2026: FutureWarning: From version 0.21, test_size will always complement train_size unless both are specified.\n",
      "  FutureWarning)\n"
     ]
    }
   ],
   "source": [
    "X = train.drop(['image', 'activation_date', 'deal_probability', 'item_id', 'title', 'description', 'text'], axis=1)\n",
    "y = train['deal_probability']\n",
    "X_train, X_validation, y_train, y_validation = train_test_split(X, y, train_size=0.75, random_state=42)\n",
    "\n",
    "X_test = test.drop(['image', 'activation_date', 'item_id', 'title', 'description', 'text'], axis=1)"
   ]
  },
  {
   "cell_type": "code",
   "execution_count": 32,
   "metadata": {
    "collapsed": true
   },
   "outputs": [],
   "source": [
    "X_train_matrix = X_train.as_matrix()\n",
    "X_test_matrix = X_validation.as_matrix()"
   ]
  },
  {
   "cell_type": "code",
   "execution_count": null,
   "metadata": {
    "collapsed": true
   },
   "outputs": [],
   "source": []
  },
  {
   "cell_type": "code",
   "execution_count": null,
   "metadata": {
    "collapsed": true
   },
   "outputs": [],
   "source": []
  },
  {
   "cell_type": "code",
   "execution_count": null,
   "metadata": {
    "collapsed": true
   },
   "outputs": [],
   "source": []
  },
  {
   "cell_type": "code",
   "execution_count": null,
   "metadata": {
    "collapsed": true
   },
   "outputs": [],
   "source": []
  },
  {
   "cell_type": "code",
   "execution_count": 33,
   "metadata": {
    "collapsed": true
   },
   "outputs": [],
   "source": [
    "gbm = xgb.XGBRegressor(n_estimators=100, learning_rate=0.08, gamma=0, subsample=0.75,\n",
    "                           colsample_bytree=1, max_depth=7, silent=False, n_jobs=-1, nthread = 8, objective='reg:logistic', eval_metric='rmse', seed=42)\n",
    "#.fit(X_train_matrix, y_train)\n"
   ]
  },
  {
   "cell_type": "code",
   "execution_count": 34,
   "metadata": {},
   "outputs": [
    {
     "data": {
      "text/plain": [
       "XGBRegressor(base_score=0.5, booster='gbtree', colsample_bylevel=1,\n",
       "       colsample_bytree=1, eval_metric='rmse', gamma=0, learning_rate=0.08,\n",
       "       max_delta_step=0, max_depth=7, min_child_weight=1, missing=None,\n",
       "       n_estimators=100, n_jobs=-1, nthread=8, objective='reg:logistic',\n",
       "       random_state=0, reg_alpha=0, reg_lambda=1, scale_pos_weight=1,\n",
       "       seed=42, silent=False, subsample=0.75)"
      ]
     },
     "execution_count": 34,
     "metadata": {},
     "output_type": "execute_result"
    }
   ],
   "source": [
    "gbm"
   ]
  },
  {
   "cell_type": "code",
   "execution_count": 35,
   "metadata": {
    "collapsed": true
   },
   "outputs": [],
   "source": [
    "from sklearn.model_selection import GridSearchCV\n",
    "\n",
    "# tree_params = {'max_depth': np.arange(1,11), 'n_estimators': [0.5, 0.7, 1], gamma: []}\n",
    "tree_params = {'max_depth': [7, 10], 'learning_rate': [0.3, 0.8], 'gamma': [0, 0.5, 1, 10]}\n",
    "\n",
    "tree_grid = GridSearchCV(gbm, tree_params, cv=5, n_jobs=-1, verbose=2)"
   ]
  },
  {
   "cell_type": "code",
   "execution_count": 36,
   "metadata": {},
   "outputs": [
    {
     "name": "stdout",
     "output_type": "stream",
     "text": [
      "Fitting 5 folds for each of 16 candidates, totalling 80 fits\n",
      "[CV] gamma=0, learning_rate=0.3, max_depth=7 .........................\n",
      "[CV] gamma=0, learning_rate=0.3, max_depth=7 .........................\n",
      "[CV] gamma=0, learning_rate=0.3, max_depth=7 .........................\n",
      "[CV] gamma=0, learning_rate=0.3, max_depth=7 .........................\n",
      "[CV] gamma=0, learning_rate=0.3, max_depth=7 .........................\n",
      "[CV] gamma=0, learning_rate=0.3, max_depth=10 ........................\n",
      "[CV] gamma=0, learning_rate=0.3, max_depth=10 ........................\n",
      "[CV] gamma=0, learning_rate=0.3, max_depth=10 ........................\n",
      "[CV] .......... gamma=0, learning_rate=0.3, max_depth=7, total=10.5min\n",
      "[CV] gamma=0, learning_rate=0.3, max_depth=10 ........................\n",
      "[CV] .......... gamma=0, learning_rate=0.3, max_depth=7, total=10.5min\n",
      "[CV] gamma=0, learning_rate=0.3, max_depth=10 ........................\n",
      "[CV] .......... gamma=0, learning_rate=0.3, max_depth=7, total=10.5min\n",
      "[CV] gamma=0, learning_rate=0.8, max_depth=7 .........................\n",
      "[CV] .......... gamma=0, learning_rate=0.3, max_depth=7, total=10.5min\n",
      "[CV] gamma=0, learning_rate=0.8, max_depth=7 .........................\n",
      "[CV] .......... gamma=0, learning_rate=0.3, max_depth=7, total=10.6min\n",
      "[CV] gamma=0, learning_rate=0.8, max_depth=7 .........................\n",
      "[CV] ......... gamma=0, learning_rate=0.3, max_depth=10, total=15.9min\n",
      "[CV] gamma=0, learning_rate=0.8, max_depth=7 .........................\n",
      "[CV] ......... gamma=0, learning_rate=0.3, max_depth=10, total=15.9min\n",
      "[CV] gamma=0, learning_rate=0.8, max_depth=7 .........................\n",
      "[CV] ......... gamma=0, learning_rate=0.3, max_depth=10, total=16.0min\n",
      "[CV] gamma=0, learning_rate=0.8, max_depth=10 ........................\n",
      "[CV] .......... gamma=0, learning_rate=0.8, max_depth=7, total=10.6min\n",
      "[CV] gamma=0, learning_rate=0.8, max_depth=10 ........................\n",
      "[CV] .......... gamma=0, learning_rate=0.8, max_depth=7, total=10.7min\n",
      "[CV] gamma=0, learning_rate=0.8, max_depth=10 ........................\n",
      "[CV] .......... gamma=0, learning_rate=0.8, max_depth=7, total=10.6min\n",
      "[CV] gamma=0, learning_rate=0.8, max_depth=10 ........................\n",
      "[CV] ......... gamma=0, learning_rate=0.3, max_depth=10, total=16.1min\n",
      "[CV] gamma=0, learning_rate=0.8, max_depth=10 ........................\n",
      "[CV] ......... gamma=0, learning_rate=0.3, max_depth=10, total=16.2min\n",
      "[CV] gamma=0.5, learning_rate=0.3, max_depth=7 .......................\n",
      "[CV] .......... gamma=0, learning_rate=0.8, max_depth=7, total=10.8min\n",
      "[CV] gamma=0.5, learning_rate=0.3, max_depth=7 .......................\n",
      "[CV] .......... gamma=0, learning_rate=0.8, max_depth=7, total=10.9min\n",
      "[CV] gamma=0.5, learning_rate=0.3, max_depth=7 .......................\n",
      "[CV] ......... gamma=0, learning_rate=0.8, max_depth=10, total=16.5min\n",
      "[CV] gamma=0.5, learning_rate=0.3, max_depth=7 .......................\n",
      "[CV] ......... gamma=0, learning_rate=0.8, max_depth=10, total=16.3min\n",
      "[CV] gamma=0.5, learning_rate=0.3, max_depth=7 .......................\n",
      "[CV] ........ gamma=0.5, learning_rate=0.3, max_depth=7, total=10.8min\n",
      "[CV] gamma=0.5, learning_rate=0.3, max_depth=10 ......................\n",
      "[CV] ......... gamma=0, learning_rate=0.8, max_depth=10, total=16.5min\n",
      "[CV] gamma=0.5, learning_rate=0.3, max_depth=10 ......................\n",
      "[CV] ........ gamma=0.5, learning_rate=0.3, max_depth=7, total=10.7min\n",
      "[CV] gamma=0.5, learning_rate=0.3, max_depth=10 ......................\n",
      "[CV] ......... gamma=0, learning_rate=0.8, max_depth=10, total=16.4min\n",
      "[CV] gamma=0.5, learning_rate=0.3, max_depth=10 ......................\n",
      "[CV] ........ gamma=0.5, learning_rate=0.3, max_depth=7, total=10.8min\n",
      "[CV] gamma=0.5, learning_rate=0.3, max_depth=10 ......................\n",
      "[CV] ......... gamma=0, learning_rate=0.8, max_depth=10, total=16.3min\n",
      "[CV] gamma=0.5, learning_rate=0.8, max_depth=7 .......................\n",
      "[CV] ........ gamma=0.5, learning_rate=0.3, max_depth=7, total=10.4min\n",
      "[CV] gamma=0.5, learning_rate=0.8, max_depth=7 .......................\n",
      "[CV] ........ gamma=0.5, learning_rate=0.3, max_depth=7, total=10.4min\n",
      "[CV] gamma=0.5, learning_rate=0.8, max_depth=7 .......................\n"
     ]
    },
    {
     "name": "stderr",
     "output_type": "stream",
     "text": [
      "[Parallel(n_jobs=-1)]: Done  25 tasks      | elapsed: 49.4min\n"
     ]
    },
    {
     "name": "stdout",
     "output_type": "stream",
     "text": [
      "[CV] ....... gamma=0.5, learning_rate=0.3, max_depth=10, total=15.1min\n",
      "[CV] gamma=0.5, learning_rate=0.8, max_depth=7 .......................\n",
      "[CV] ....... gamma=0.5, learning_rate=0.3, max_depth=10, total=15.3min\n",
      "[CV] gamma=0.5, learning_rate=0.8, max_depth=7 .......................\n",
      "[CV] ....... gamma=0.5, learning_rate=0.3, max_depth=10, total=15.2min\n",
      "[CV] gamma=0.5, learning_rate=0.8, max_depth=10 ......................\n",
      "[CV] ........ gamma=0.5, learning_rate=0.8, max_depth=7, total= 9.6min\n",
      "[CV] gamma=0.5, learning_rate=0.8, max_depth=10 ......................\n",
      "[CV] ....... gamma=0.5, learning_rate=0.3, max_depth=10, total=15.2min\n",
      "[CV] gamma=0.5, learning_rate=0.8, max_depth=10 ......................\n",
      "[CV] ....... gamma=0.5, learning_rate=0.3, max_depth=10, total=15.3min\n",
      "[CV] gamma=0.5, learning_rate=0.8, max_depth=10 ......................\n",
      "[CV] ........ gamma=0.5, learning_rate=0.8, max_depth=7, total= 9.6min\n",
      "[CV] gamma=0.5, learning_rate=0.8, max_depth=10 ......................\n",
      "[CV] ........ gamma=0.5, learning_rate=0.8, max_depth=7, total= 9.0min\n",
      "[CV] gamma=1, learning_rate=0.3, max_depth=7 .........................\n",
      "[CV] ........ gamma=0.5, learning_rate=0.8, max_depth=7, total= 9.3min\n",
      "[CV] gamma=1, learning_rate=0.3, max_depth=7 .........................\n",
      "[CV] ........ gamma=0.5, learning_rate=0.8, max_depth=7, total= 9.3min\n",
      "[CV] gamma=1, learning_rate=0.3, max_depth=7 .........................\n",
      "[CV] .......... gamma=1, learning_rate=0.3, max_depth=7, total= 8.9min\n",
      "[CV] gamma=1, learning_rate=0.3, max_depth=7 .........................\n",
      "[CV] ....... gamma=0.5, learning_rate=0.8, max_depth=10, total=13.5min\n",
      "[CV] gamma=1, learning_rate=0.3, max_depth=7 .........................\n",
      "[CV] ....... gamma=0.5, learning_rate=0.8, max_depth=10, total=13.6min\n",
      "[CV] gamma=1, learning_rate=0.3, max_depth=10 ........................\n",
      "[CV] ....... gamma=0.5, learning_rate=0.8, max_depth=10, total=13.5min\n",
      "[CV] gamma=1, learning_rate=0.3, max_depth=10 ........................\n",
      "[CV] ....... gamma=0.5, learning_rate=0.8, max_depth=10, total=13.3min\n",
      "[CV] gamma=1, learning_rate=0.3, max_depth=10 ........................\n",
      "[CV] ....... gamma=0.5, learning_rate=0.8, max_depth=10, total=13.6min\n",
      "[CV] gamma=1, learning_rate=0.3, max_depth=10 ........................\n",
      "[CV] .......... gamma=1, learning_rate=0.3, max_depth=7, total= 8.0min\n",
      "[CV] gamma=1, learning_rate=0.3, max_depth=10 ........................\n",
      "[CV] .......... gamma=1, learning_rate=0.3, max_depth=7, total= 8.0min\n",
      "[CV] gamma=1, learning_rate=0.8, max_depth=7 .........................\n",
      "[CV] .......... gamma=1, learning_rate=0.3, max_depth=7, total= 8.1min\n",
      "[CV] gamma=1, learning_rate=0.8, max_depth=7 .........................\n",
      "[CV] .......... gamma=1, learning_rate=0.3, max_depth=7, total= 8.7min\n",
      "[CV] gamma=1, learning_rate=0.8, max_depth=7 .........................\n",
      "[CV] .......... gamma=1, learning_rate=0.8, max_depth=7, total= 9.0min\n",
      "[CV] gamma=1, learning_rate=0.8, max_depth=7 .........................\n",
      "[CV] ......... gamma=1, learning_rate=0.3, max_depth=10, total=12.8min\n",
      "[CV] gamma=1, learning_rate=0.8, max_depth=7 .........................\n",
      "[CV] ......... gamma=1, learning_rate=0.3, max_depth=10, total=12.9min\n",
      "[CV] gamma=1, learning_rate=0.8, max_depth=10 ........................\n",
      "[CV] ......... gamma=1, learning_rate=0.3, max_depth=10, total=13.1min\n",
      "[CV] gamma=1, learning_rate=0.8, max_depth=10 ........................\n",
      "[CV] ......... gamma=1, learning_rate=0.3, max_depth=10, total=13.2min\n",
      "[CV] gamma=1, learning_rate=0.8, max_depth=10 ........................\n",
      "[CV] .......... gamma=1, learning_rate=0.8, max_depth=7, total= 9.0min\n",
      "[CV] gamma=1, learning_rate=0.8, max_depth=10 ........................\n",
      "[CV] ......... gamma=1, learning_rate=0.3, max_depth=10, total=13.2min\n",
      "[CV] gamma=1, learning_rate=0.8, max_depth=10 ........................\n",
      "[CV] .......... gamma=1, learning_rate=0.8, max_depth=7, total= 8.7min\n",
      "[CV] gamma=10, learning_rate=0.3, max_depth=7 ........................\n",
      "[CV] .......... gamma=1, learning_rate=0.8, max_depth=7, total= 8.8min\n",
      "[CV] gamma=10, learning_rate=0.3, max_depth=7 ........................\n",
      "[CV] .......... gamma=1, learning_rate=0.8, max_depth=7, total= 8.8min\n",
      "[CV] gamma=10, learning_rate=0.3, max_depth=7 ........................\n",
      "[CV] ......... gamma=10, learning_rate=0.3, max_depth=7, total= 9.1min\n",
      "[CV] gamma=10, learning_rate=0.3, max_depth=7 ........................\n",
      "[CV] ......... gamma=1, learning_rate=0.8, max_depth=10, total=13.6min\n",
      "[CV] gamma=10, learning_rate=0.3, max_depth=7 ........................\n",
      "[CV] ......... gamma=1, learning_rate=0.8, max_depth=10, total=13.5min\n",
      "[CV] gamma=10, learning_rate=0.3, max_depth=10 .......................\n",
      "[CV] ......... gamma=1, learning_rate=0.8, max_depth=10, total=13.8min\n",
      "[CV] gamma=10, learning_rate=0.3, max_depth=10 .......................\n",
      "[CV] ......... gamma=10, learning_rate=0.3, max_depth=7, total= 8.7min\n",
      "[CV] gamma=10, learning_rate=0.3, max_depth=10 .......................\n",
      "[CV] ......... gamma=1, learning_rate=0.8, max_depth=10, total=13.7min\n",
      "[CV] gamma=10, learning_rate=0.3, max_depth=10 .......................\n",
      "[CV] ......... gamma=10, learning_rate=0.3, max_depth=7, total= 9.0min\n",
      "[CV] gamma=10, learning_rate=0.3, max_depth=10 .......................\n",
      "[CV] ......... gamma=1, learning_rate=0.8, max_depth=10, total=13.5min\n",
      "[CV] gamma=10, learning_rate=0.8, max_depth=7 ........................\n",
      "[CV] ......... gamma=10, learning_rate=0.3, max_depth=7, total= 8.5min\n",
      "[CV] gamma=10, learning_rate=0.8, max_depth=7 ........................\n",
      "[CV] ......... gamma=10, learning_rate=0.3, max_depth=7, total= 9.1min\n",
      "[CV] gamma=10, learning_rate=0.8, max_depth=7 ........................\n",
      "[CV] ......... gamma=10, learning_rate=0.8, max_depth=7, total= 9.2min\n",
      "[CV] gamma=10, learning_rate=0.8, max_depth=7 ........................\n",
      "[CV] ........ gamma=10, learning_rate=0.3, max_depth=10, total=13.4min\n",
      "[CV] gamma=10, learning_rate=0.8, max_depth=7 ........................\n",
      "[CV] ........ gamma=10, learning_rate=0.3, max_depth=10, total=13.5min\n",
      "[CV] gamma=10, learning_rate=0.8, max_depth=10 .......................\n",
      "[CV] ........ gamma=10, learning_rate=0.3, max_depth=10, total=13.5min\n",
      "[CV] gamma=10, learning_rate=0.8, max_depth=10 .......................\n",
      "[CV] ........ gamma=10, learning_rate=0.3, max_depth=10, total=13.7min\n",
      "[CV] gamma=10, learning_rate=0.8, max_depth=10 .......................\n",
      "[CV] ........ gamma=10, learning_rate=0.3, max_depth=10, total=13.9min\n",
      "[CV] gamma=10, learning_rate=0.8, max_depth=10 .......................\n",
      "[CV] ......... gamma=10, learning_rate=0.8, max_depth=7, total= 9.6min\n",
      "[CV] gamma=10, learning_rate=0.8, max_depth=10 .......................\n",
      "[CV] ......... gamma=10, learning_rate=0.8, max_depth=7, total= 9.3min\n",
      "[CV] ......... gamma=10, learning_rate=0.8, max_depth=7, total= 9.4min\n",
      "[CV] ......... gamma=10, learning_rate=0.8, max_depth=7, total= 9.3min\n",
      "[CV] ........ gamma=10, learning_rate=0.8, max_depth=10, total=12.4min\n",
      "[CV] ........ gamma=10, learning_rate=0.8, max_depth=10, total=11.1min\n",
      "[CV] ........ gamma=10, learning_rate=0.8, max_depth=10, total=10.8min\n",
      "[CV] ........ gamma=10, learning_rate=0.8, max_depth=10, total=10.6min\n",
      "[CV] ........ gamma=10, learning_rate=0.8, max_depth=10, total=10.5min\n"
     ]
    },
    {
     "name": "stderr",
     "output_type": "stream",
     "text": [
      "[Parallel(n_jobs=-1)]: Done  80 out of  80 | elapsed: 125.0min finished\n"
     ]
    },
    {
     "name": "stdout",
     "output_type": "stream",
     "text": [
      "CPU times: user 15min 57s, sys: 13.2 s, total: 16min 10s\n",
      "Wall time: 2h 6min 54s\n"
     ]
    },
    {
     "data": {
      "text/plain": [
       "GridSearchCV(cv=5, error_score='raise',\n",
       "       estimator=XGBRegressor(base_score=0.5, booster='gbtree', colsample_bylevel=1,\n",
       "       colsample_bytree=1, eval_metric='rmse', gamma=0, learning_rate=0.08,\n",
       "       max_delta_step=0, max_depth=7, min_child_weight=1, missing=None,\n",
       "       n_estimators=100, n_jobs=-1, nthread=8, objective='reg:logistic',\n",
       "       random_state=0, reg_alpha=0, reg_lambda=1, scale_pos_weight=1,\n",
       "       seed=42, silent=False, subsample=0.75),\n",
       "       fit_params=None, iid=True, n_jobs=-1,\n",
       "       param_grid={'max_depth': [7, 10], 'learning_rate': [0.3, 0.8], 'gamma': [0, 0.5, 1, 10]},\n",
       "       pre_dispatch='2*n_jobs', refit=True, return_train_score='warn',\n",
       "       scoring=None, verbose=2)"
      ]
     },
     "execution_count": 36,
     "metadata": {},
     "output_type": "execute_result"
    }
   ],
   "source": [
    "%%time\n",
    "tree_grid.fit(X_train, y_train);"
   ]
  },
  {
   "cell_type": "code",
   "execution_count": 37,
   "metadata": {},
   "outputs": [
    {
     "data": {
      "text/plain": [
       "(0.23682518885886547, {'gamma': 10, 'learning_rate': 0.3, 'max_depth': 10})"
      ]
     },
     "execution_count": 37,
     "metadata": {},
     "output_type": "execute_result"
    }
   ],
   "source": [
    "tree_grid.best_score_, tree_grid.best_params_"
   ]
  },
  {
   "cell_type": "markdown",
   "metadata": {},
   "source": [
    "(0.23544268971637272, {'max_depth': 10, 'n_estimators': 100})"
   ]
  },
  {
   "cell_type": "code",
   "execution_count": 38,
   "metadata": {},
   "outputs": [
    {
     "data": {
      "text/plain": [
       "([7, 10], array([0.23674686, 0.23455175, 0.2068249 , 0.11504001, 0.23633035,\n",
       "        0.23432431, 0.20655919, 0.11854172, 0.23613334, 0.23440024,\n",
       "        0.20617454, 0.12101886, 0.23130716, 0.23682519, 0.22774954,\n",
       "        0.22859246]))"
      ]
     },
     "execution_count": 38,
     "metadata": {},
     "output_type": "execute_result"
    }
   ],
   "source": [
    "tree_params['max_depth'], tree_grid.cv_results_['mean_test_score']"
   ]
  },
  {
   "cell_type": "code",
   "execution_count": 39,
   "metadata": {},
   "outputs": [
    {
     "name": "stderr",
     "output_type": "stream",
     "text": [
      "/home/paperspace/anaconda3/envs/fastai/lib/python3.6/site-packages/sklearn/utils/deprecation.py:122: FutureWarning: You are accessing a training score ('split0_train_score'), which will not be available by default any more in 0.21. If you need training scores, please set return_train_score=True\n",
      "  warnings.warn(*warn_args, **warn_kwargs)\n",
      "/home/paperspace/anaconda3/envs/fastai/lib/python3.6/site-packages/sklearn/utils/deprecation.py:122: FutureWarning: You are accessing a training score ('split1_train_score'), which will not be available by default any more in 0.21. If you need training scores, please set return_train_score=True\n",
      "  warnings.warn(*warn_args, **warn_kwargs)\n",
      "/home/paperspace/anaconda3/envs/fastai/lib/python3.6/site-packages/sklearn/utils/deprecation.py:122: FutureWarning: You are accessing a training score ('split2_train_score'), which will not be available by default any more in 0.21. If you need training scores, please set return_train_score=True\n",
      "  warnings.warn(*warn_args, **warn_kwargs)\n",
      "/home/paperspace/anaconda3/envs/fastai/lib/python3.6/site-packages/sklearn/utils/deprecation.py:122: FutureWarning: You are accessing a training score ('split3_train_score'), which will not be available by default any more in 0.21. If you need training scores, please set return_train_score=True\n",
      "  warnings.warn(*warn_args, **warn_kwargs)\n",
      "/home/paperspace/anaconda3/envs/fastai/lib/python3.6/site-packages/sklearn/utils/deprecation.py:122: FutureWarning: You are accessing a training score ('split4_train_score'), which will not be available by default any more in 0.21. If you need training scores, please set return_train_score=True\n",
      "  warnings.warn(*warn_args, **warn_kwargs)\n",
      "/home/paperspace/anaconda3/envs/fastai/lib/python3.6/site-packages/sklearn/utils/deprecation.py:122: FutureWarning: You are accessing a training score ('mean_train_score'), which will not be available by default any more in 0.21. If you need training scores, please set return_train_score=True\n",
      "  warnings.warn(*warn_args, **warn_kwargs)\n",
      "/home/paperspace/anaconda3/envs/fastai/lib/python3.6/site-packages/sklearn/utils/deprecation.py:122: FutureWarning: You are accessing a training score ('std_train_score'), which will not be available by default any more in 0.21. If you need training scores, please set return_train_score=True\n",
      "  warnings.warn(*warn_args, **warn_kwargs)\n"
     ]
    },
    {
     "data": {
      "text/plain": [
       "{'mean_fit_time': array([626.39275694, 950.79872379, 638.0853354 , 972.71310925,\n",
       "        633.00669403, 907.3197082 , 556.64789143, 803.29310551,\n",
       "        493.63934112, 775.16668553, 526.39196296, 807.8754024 ,\n",
       "        526.95129104, 811.77848072, 558.23585758, 662.28805032]),\n",
       " 'std_fit_time': array([ 1.77556461,  6.09598561,  6.12135942,  5.06589228, 11.87139981,\n",
       "         4.57375325, 15.44195955,  5.92629374, 23.71667489,  9.84734578,\n",
       "         6.273921  ,  8.36397683, 14.83022371, 11.59495718,  8.08526779,\n",
       "        40.70214588]),\n",
       " 'mean_score_time': array([ 4.76545506,  9.74002647,  5.25723548, 10.61315813,  4.84760408,\n",
       "         7.29897938,  4.59161158,  6.21260881,  5.87892437,  7.59099898,\n",
       "         5.12981238,  8.68478727,  4.56162949,  5.38750129,  3.4788547 ,\n",
       "         1.7620985 ]),\n",
       " 'std_score_time': array([0.35639429, 1.18480267, 0.50092056, 1.06136746, 1.09296104,\n",
       "        1.47058244, 1.41025722, 0.78572821, 0.30032432, 1.4515878 ,\n",
       "        0.24938225, 1.40071869, 0.64264595, 0.30217822, 0.54028222,\n",
       "        0.84119244]),\n",
       " 'param_gamma': masked_array(data=[0, 0, 0, 0, 0.5, 0.5, 0.5, 0.5, 1, 1, 1, 1, 10, 10, 10,\n",
       "                    10],\n",
       "              mask=[False, False, False, False, False, False, False, False,\n",
       "                    False, False, False, False, False, False, False, False],\n",
       "        fill_value='?',\n",
       "             dtype=object),\n",
       " 'param_learning_rate': masked_array(data=[0.3, 0.3, 0.8, 0.8, 0.3, 0.3, 0.8, 0.8, 0.3, 0.3, 0.8,\n",
       "                    0.8, 0.3, 0.3, 0.8, 0.8],\n",
       "              mask=[False, False, False, False, False, False, False, False,\n",
       "                    False, False, False, False, False, False, False, False],\n",
       "        fill_value='?',\n",
       "             dtype=object),\n",
       " 'param_max_depth': masked_array(data=[7, 10, 7, 10, 7, 10, 7, 10, 7, 10, 7, 10, 7, 10, 7, 10],\n",
       "              mask=[False, False, False, False, False, False, False, False,\n",
       "                    False, False, False, False, False, False, False, False],\n",
       "        fill_value='?',\n",
       "             dtype=object),\n",
       " 'params': [{'gamma': 0, 'learning_rate': 0.3, 'max_depth': 7},\n",
       "  {'gamma': 0, 'learning_rate': 0.3, 'max_depth': 10},\n",
       "  {'gamma': 0, 'learning_rate': 0.8, 'max_depth': 7},\n",
       "  {'gamma': 0, 'learning_rate': 0.8, 'max_depth': 10},\n",
       "  {'gamma': 0.5, 'learning_rate': 0.3, 'max_depth': 7},\n",
       "  {'gamma': 0.5, 'learning_rate': 0.3, 'max_depth': 10},\n",
       "  {'gamma': 0.5, 'learning_rate': 0.8, 'max_depth': 7},\n",
       "  {'gamma': 0.5, 'learning_rate': 0.8, 'max_depth': 10},\n",
       "  {'gamma': 1, 'learning_rate': 0.3, 'max_depth': 7},\n",
       "  {'gamma': 1, 'learning_rate': 0.3, 'max_depth': 10},\n",
       "  {'gamma': 1, 'learning_rate': 0.8, 'max_depth': 7},\n",
       "  {'gamma': 1, 'learning_rate': 0.8, 'max_depth': 10},\n",
       "  {'gamma': 10, 'learning_rate': 0.3, 'max_depth': 7},\n",
       "  {'gamma': 10, 'learning_rate': 0.3, 'max_depth': 10},\n",
       "  {'gamma': 10, 'learning_rate': 0.8, 'max_depth': 7},\n",
       "  {'gamma': 10, 'learning_rate': 0.8, 'max_depth': 10}],\n",
       " 'split0_test_score': array([0.2379275 , 0.23580699, 0.20706687, 0.11047359, 0.23789091,\n",
       "        0.23523717, 0.2096026 , 0.11935783, 0.23718345, 0.23622462,\n",
       "        0.20663446, 0.12265196, 0.23196129, 0.23831421, 0.22867316,\n",
       "        0.22999609]),\n",
       " 'split1_test_score': array([0.23791663, 0.23587602, 0.2094181 , 0.11645   , 0.237587  ,\n",
       "        0.23607976, 0.20486585, 0.12355347, 0.23672342, 0.23515468,\n",
       "        0.20835886, 0.12540218, 0.23200743, 0.2366418 , 0.22688651,\n",
       "        0.23000999]),\n",
       " 'split2_test_score': array([0.23125416, 0.23005746, 0.19952385, 0.10893479, 0.23119122,\n",
       "        0.22833036, 0.19991191, 0.10688334, 0.23005927, 0.22844564,\n",
       "        0.20070885, 0.11853703, 0.22585552, 0.23086529, 0.22256542,\n",
       "        0.22334376]),\n",
       " 'split3_test_score': array([0.23918761, 0.23601385, 0.21049748, 0.12039676, 0.23990941,\n",
       "        0.23741552, 0.2103125 , 0.11914383, 0.23979373, 0.23728158,\n",
       "        0.2081441 , 0.11845342, 0.2346775 , 0.24112378, 0.23059898,\n",
       "        0.23156077]),\n",
       " 'split4_test_score': array([0.23744839, 0.23500441, 0.20761823, 0.11894497, 0.23507324,\n",
       "        0.23455874, 0.2081031 , 0.12377013, 0.23690685, 0.2348947 ,\n",
       "        0.20702642, 0.1200497 , 0.23203405, 0.23718088, 0.23002368,\n",
       "        0.22805169]),\n",
       " 'mean_test_score': array([0.23674686, 0.23455175, 0.2068249 , 0.11504001, 0.23633035,\n",
       "        0.23432431, 0.20655919, 0.11854172, 0.23613334, 0.23440024,\n",
       "        0.20617454, 0.12101886, 0.23130716, 0.23682519, 0.22774954,\n",
       "        0.22859246]),\n",
       " 'std_test_score': array([0.00280647, 0.00227467, 0.00385242, 0.00456196, 0.00299383,\n",
       "        0.00314493, 0.00381542, 0.00615468, 0.00323549, 0.0030952 ,\n",
       "        0.00280932, 0.00266686, 0.00291638, 0.00335785, 0.00289012,\n",
       "        0.00285068]),\n",
       " 'rank_test_score': array([ 2,  5, 11, 16,  3,  7, 12, 15,  4,  6, 13, 14,  8,  1, 10,  9],\n",
       "       dtype=int32),\n",
       " 'split0_train_score': array([0.26947668, 0.37543112, 0.29496991, 0.4772394 , 0.26965664,\n",
       "        0.36736806, 0.29733733, 0.47084268, 0.26877383, 0.36611023,\n",
       "        0.29741747, 0.45764054, 0.23938014, 0.24971861, 0.24254095,\n",
       "        0.25172066]),\n",
       " 'split1_train_score': array([0.27020509, 0.37160962, 0.29497437, 0.47313325, 0.2700256 ,\n",
       "        0.36920764, 0.29704844, 0.46573061, 0.26860167, 0.36633287,\n",
       "        0.29515089, 0.45153973, 0.23902173, 0.24876849, 0.24101272,\n",
       "        0.24926349]),\n",
       " 'split2_train_score': array([0.27054563, 0.3727252 , 0.3007081 , 0.47468764, 0.2697755 ,\n",
       "        0.37206747, 0.30103236, 0.47415526, 0.26940015, 0.36478292,\n",
       "        0.29870215, 0.45475946, 0.24068101, 0.25091064, 0.24296729,\n",
       "        0.25267037]),\n",
       " 'split3_train_score': array([0.26769481, 0.37252432, 0.29692787, 0.4717482 , 0.26886907,\n",
       "        0.3674163 , 0.29684099, 0.47151054, 0.26859355, 0.3651199 ,\n",
       "        0.29742209, 0.46180042, 0.23902692, 0.24899457, 0.24207848,\n",
       "        0.25075088]),\n",
       " 'split4_train_score': array([0.26898347, 0.36662521, 0.29901206, 0.47431273, 0.26697729,\n",
       "        0.37211914, 0.2985927 , 0.46449929, 0.26986609, 0.36156081,\n",
       "        0.29705   , 0.45875136, 0.23906692, 0.24962995, 0.2433251 ,\n",
       "        0.24937517]),\n",
       " 'mean_train_score': array([0.26938114, 0.3717831 , 0.29731846, 0.47422424, 0.26906082,\n",
       "        0.36963572, 0.29817036, 0.46934768, 0.26904706, 0.36478135,\n",
       "        0.29714852, 0.4568983 , 0.23943534, 0.24960445, 0.24238491,\n",
       "        0.25075612]),\n",
       " 'std_train_score': array([0.00100458, 0.00287677, 0.00225924, 0.001824  , 0.00111126,\n",
       "        0.00211339, 0.00155495, 0.00365009, 0.00050482, 0.00171229,\n",
       "        0.00114553, 0.00350156, 0.00063692, 0.00074708, 0.00080303,\n",
       "        0.00132134])}"
      ]
     },
     "execution_count": 39,
     "metadata": {},
     "output_type": "execute_result"
    }
   ],
   "source": [
    "tree_grid.cv_results_"
   ]
  },
  {
   "cell_type": "code",
   "execution_count": 48,
   "metadata": {},
   "outputs": [
    {
     "data": {
      "text/plain": [
       "array([3, 3, 3, 4, 4, 4, 5, 5, 5, 6, 6, 6, 7, 7, 7, 8, 8, 8, 9, 9, 9, 10,\n",
       "       10, 10], dtype=object)"
      ]
     },
     "execution_count": 48,
     "metadata": {},
     "output_type": "execute_result"
    }
   ],
   "source": [
    "tree_grid.cv_results_['param_max_depth'].data"
   ]
  },
  {
   "cell_type": "code",
   "execution_count": 50,
   "metadata": {},
   "outputs": [
    {
     "data": {
      "image/png": "[encoded data removed]",
      "text/plain": [
       "<Figure size 432x288 with 1 Axes>"
      ]
     },
     "metadata": {},
     "output_type": "display_data"
    }
   ],
   "source": [
    "# scores = [tree_grid.cv_results_['mean_test_score'][0], \n",
    "#           tree_grid.cv_results_['mean_test_score'][3], \n",
    "#           tree_grid.cv_results_['mean_test_score'][6], \n",
    "#           tree_grid.cv_results_['mean_test_score'][9],\n",
    "#           tree_grid.cv_results_['mean_test_score'][12],\n",
    "#           tree_grid.cv_results_['mean_test_score'][15],\n",
    "#           tree_grid.cv_results_['mean_test_score'][18],\n",
    "#           tree_grid.cv_results_['mean_test_score'][21]]\n",
    "# plt.plot(tree_params['max_depth'], \n",
    "#          scores)\n",
    "# plt.xlabel('Max depth')\n",
    "# plt.ylabel('Mean CV accuracy');"
   ]
  },
  {
   "cell_type": "code",
   "execution_count": 40,
   "metadata": {},
   "outputs": [
    {
     "data": {
      "text/plain": [
       "['tree_grid_best_xgboost.pkl']"
      ]
     },
     "execution_count": 40,
     "metadata": {},
     "output_type": "execute_result"
    }
   ],
   "source": [
    "from sklearn.externals import joblib\n",
    "joblib.dump(tree_grid.best_estimator_, 'tree_grid_best_xgboost.pkl', compress = 1)"
   ]
  },
  {
   "cell_type": "code",
   "execution_count": 41,
   "metadata": {},
   "outputs": [
    {
     "data": {
      "text/plain": [
       "['tree_grid_cv_results.pkl']"
      ]
     },
     "execution_count": 41,
     "metadata": {},
     "output_type": "execute_result"
    }
   ],
   "source": [
    "joblib.dump(tree_grid.cv_results_, 'tree_grid_cv_results.pkl', compress = 1)"
   ]
  },
  {
   "cell_type": "code",
   "execution_count": 44,
   "metadata": {
    "collapsed": true
   },
   "outputs": [],
   "source": [
    "predictions = tree_grid.best_estimator_.predict(X_train)"
   ]
  },
  {
   "cell_type": "code",
   "execution_count": 45,
   "metadata": {
    "collapsed": true
   },
   "outputs": [],
   "source": [
    "from sklearn.metrics import mean_squared_error"
   ]
  },
  {
   "cell_type": "code",
   "execution_count": 46,
   "metadata": {},
   "outputs": [
    {
     "data": {
      "text/plain": [
       "0.22495553023133752"
      ]
     },
     "execution_count": 46,
     "metadata": {},
     "output_type": "execute_result"
    }
   ],
   "source": [
    "np.sqrt(mean_squared_error(y_train, predictions))"
   ]
  },
  {
   "cell_type": "code",
   "execution_count": 47,
   "metadata": {},
   "outputs": [
    {
     "data": {
      "image/png": "[encoded data removed]",
      "text/plain": [
       "<Figure size 432x288 with 1 Axes>"
      ]
     },
     "metadata": {},
     "output_type": "display_data"
    }
   ],
   "source": [
    "from xgboost import plot_importance\n",
    "from matplotlib import pyplot\n",
    "\n",
    "plot_importance(tree_grid.best_estimator_)\n",
    "pyplot.show()"
   ]
  },
  {
   "cell_type": "markdown",
   "metadata": {},
   "source": [
    "## Submission"
   ]
  },
  {
   "cell_type": "code",
   "execution_count": 49,
   "metadata": {
    "collapsed": true
   },
   "outputs": [],
   "source": [
    "predictions = tree_grid.best_estimator_.predict(X_test)"
   ]
  },
  {
   "cell_type": "code",
   "execution_count": 51,
   "metadata": {},
   "outputs": [
    {
     "data": {
      "text/html": [
       "<div>\n",
       "<style scoped>\n",
       "    .dataframe tbody tr th:only-of-type {\n",
       "        vertical-align: middle;\n",
       "    }\n",
       "\n",
       "    .dataframe tbody tr th {\n",
       "        vertical-align: top;\n",
       "    }\n",
       "\n",
       "    .dataframe thead th {\n",
       "        text-align: right;\n",
       "    }\n",
       "</style>\n",
       "<table border=\"1\" class=\"dataframe\">\n",
       "  <thead>\n",
       "    <tr style=\"text-align: right;\">\n",
       "      <th></th>\n",
       "      <th>item_id</th>\n",
       "      <th>deal_probability</th>\n",
       "    </tr>\n",
       "  </thead>\n",
       "  <tbody>\n",
       "    <tr>\n",
       "      <th>0</th>\n",
       "      <td>6544e41a8817</td>\n",
       "      <td>0.107764</td>\n",
       "    </tr>\n",
       "    <tr>\n",
       "      <th>1</th>\n",
       "      <td>65b9484d670f</td>\n",
       "      <td>0.105769</td>\n",
       "    </tr>\n",
       "    <tr>\n",
       "      <th>2</th>\n",
       "      <td>8bab230b2ecd</td>\n",
       "      <td>0.108077</td>\n",
       "    </tr>\n",
       "    <tr>\n",
       "      <th>3</th>\n",
       "      <td>8e348601fefc</td>\n",
       "      <td>0.097238</td>\n",
       "    </tr>\n",
       "    <tr>\n",
       "      <th>4</th>\n",
       "      <td>8bd2fe400b89</td>\n",
       "      <td>0.211617</td>\n",
       "    </tr>\n",
       "  </tbody>\n",
       "</table>\n",
       "</div>"
      ],
      "text/plain": [
       "        item_id  deal_probability\n",
       "0  6544e41a8817          0.107764\n",
       "1  65b9484d670f          0.105769\n",
       "2  8bab230b2ecd          0.108077\n",
       "3  8e348601fefc          0.097238\n",
       "4  8bd2fe400b89          0.211617"
      ]
     },
     "execution_count": 51,
     "metadata": {},
     "output_type": "execute_result"
    }
   ],
   "source": [
    "submission = pd.DataFrame(columns=['item_id', 'deal_probability'])\n",
    "submission['item_id'] = test['item_id']\n",
    "submission['deal_probability'] = predictions\n",
    "submission.head()"
   ]
  },
  {
   "cell_type": "code",
   "execution_count": 52,
   "metadata": {
    "collapsed": true
   },
   "outputs": [],
   "source": [
    "submission.to_csv('submission.csv', index=False)"
   ]
  },
  {
   "cell_type": "code",
   "execution_count": 157,
   "metadata": {},
   "outputs": [
    {
     "data": {
      "text/plain": [
       "Index(['user_id', 'region', 'city', 'parent_category_name', 'category_name',\n",
       "       'param_1', 'param_2', 'param_3', 'price', 'item_seq_number',\n",
       "       'user_type', 'image_top_1', 'weekday', 'is_weekend', 'month', 'day',\n",
       "       'has_image', 'has_description', 'description_len', 'title_len',\n",
       "       'has_param_1', 'has_param_2', 'has_param_3', 'has_price',\n",
       "       'has_image_top_1'],\n",
       "      dtype='object')"
      ]
     },
     "execution_count": 157,
     "metadata": {},
     "output_type": "execute_result"
    }
   ],
   "source": [
    "X_train.columns"
   ]
  },
  {
   "cell_type": "code",
   "execution_count": null,
   "metadata": {
    "collapsed": true
   },
   "outputs": [],
   "source": [
    "model.save_model('avito_catboost_model.dump')"
   ]
  },
  {
   "cell_type": "code",
   "execution_count": 158,
   "metadata": {
    "collapsed": true
   },
   "outputs": [],
   "source": []
  },
  {
   "cell_type": "code",
   "execution_count": null,
   "metadata": {
    "collapsed": true
   },
   "outputs": [],
   "source": [
    "pred = model.predict(X_test, verbose=True)"
   ]
  },
  {
   "cell_type": "code",
   "execution_count": null,
   "metadata": {
    "collapsed": true
   },
   "outputs": [],
   "source": [
    "pred[:10]"
   ]
  },
  {
   "cell_type": "code",
   "execution_count": null,
   "metadata": {
    "collapsed": true
   },
   "outputs": [],
   "source": [
    "def normalize(x):\n",
    "    return 0 if x < 0 else (1 if x > 1 else x)\n",
    "\n",
    "pred2 = [normalize(x) for x in pred]"
   ]
  },
  {
   "cell_type": "code",
   "execution_count": null,
   "metadata": {
    "collapsed": true
   },
   "outputs": [],
   "source": [
    "pred2[:10]"
   ]
  },
  {
   "cell_type": "code",
   "execution_count": null,
   "metadata": {
    "collapsed": true
   },
   "outputs": [],
   "source": [
    "submission = pd.DataFrame(columns=['item_id', 'deal_probability'])"
   ]
  },
  {
   "cell_type": "code",
   "execution_count": null,
   "metadata": {
    "collapsed": true
   },
   "outputs": [],
   "source": [
    "submission['item_id'] = test['item_id']\n",
    "submission['deal_probability'] = pred2"
   ]
  },
  {
   "cell_type": "code",
   "execution_count": null,
   "metadata": {
    "collapsed": true
   },
   "outputs": [],
   "source": [
    "submission.head()"
   ]
  },
  {
   "cell_type": "code",
   "execution_count": null,
   "metadata": {
    "collapsed": true
   },
   "outputs": [],
   "source": [
    "submission.to_csv('submission.csv', index=False)"
   ]
  },
  {
   "cell_type": "code",
   "execution_count": null,
   "metadata": {
    "collapsed": true
   },
   "outputs": [],
   "source": []
  },
  {
   "cell_type": "code",
   "execution_count": null,
   "metadata": {
    "collapsed": true
   },
   "outputs": [],
   "source": []
  },
  {
   "cell_type": "code",
   "execution_count": null,
   "metadata": {
    "collapsed": true
   },
   "outputs": [],
   "source": []
  }
 ],
 "metadata": {
  "kernelspec": {
   "display_name": "Python 3",
   "language": "python",
   "name": "python3"
  },
  "language_info": {
   "codemirror_mode": {
    "name": "ipython",
    "version": 3
   },
   "file_extension": ".py",
   "mimetype": "text/x-python",
   "name": "python",
   "nbconvert_exporter": "python",
   "pygments_lexer": "ipython3",
   "version": "3.5.2"
  }
 },
 "nbformat": 4,
 "nbformat_minor": 2
}
